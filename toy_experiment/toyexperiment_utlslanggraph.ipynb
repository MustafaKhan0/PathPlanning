{
 "cells": [
  {
   "cell_type": "code",
   "execution_count": 136,
   "metadata": {},
   "outputs": [],
   "source": [
    "from langchain_openai.chat_models import ChatOpenAI\n",
    "from dotenv import load_dotenv\n",
    "import graph_utils\n",
    "import importlib\n",
    "importlib.reload(graph_utils)\n",
    "from pathlib import Path\n",
    "import asyncio\n",
    "import os\n",
    "from langchain_anthropic.chat_models import ChatAnthropic\n",
    "\n",
    "load_dotenv()\n",
    "setup_data_path = Path().resolve() / 'setup_data'"
   ]
  },
  {
   "cell_type": "code",
   "execution_count": 143,
   "metadata": {},
   "outputs": [],
   "source": [
    "MODEL = 'gpt-4o' # gpt-3.5-turbo-16k-0613\n",
    "EDITION = 'FINAL_0'\n",
    "GRAPH_TYPE = 'central_agent_1'\n",
    "TRIAL_NAME = 'final_run_1'\n",
    "PROMPTING_METHOD = 'default'\n",
    "MAX_INFERENCE = 10\n",
    "\n",
    "llm = ChatOpenAI(model=MODEL) # ChatAnthropic(model_name=MODEL)\n",
    "ANTHROPIC_KEY = os.getenv('ANTHROPIC_API_KEY')\n",
    "envs_path = setup_data_path / EDITION\n",
    "files = os.listdir(envs_path)\n",
    "files.remove('config.json')\n",
    "\n",
    "save_path = Path().resolve() / 'logs' / EDITION / GRAPH_TYPE / MODEL / PROMPTING_METHOD / TRIAL_NAME"
   ]
  },
  {
   "cell_type": "code",
   "execution_count": 82,
   "metadata": {},
   "outputs": [],
   "source": [
    "import re\n",
    "def extract_number_from_filename(filename):\n",
    "    pattern = r'env_(\\d+)\\.json'\n",
    "    match = re.search(pattern, filename)\n",
    "    \n",
    "    if match:\n",
    "        number = match.group(1)\n",
    "        return int(number)\n",
    "    else:\n",
    "        return None"
   ]
  },
  {
   "cell_type": "code",
   "execution_count": 138,
   "metadata": {},
   "outputs": [],
   "source": [
    "async def run_events(events, run_n):\n",
    "    async for e in events:\n",
    "        print(f'==== ENV_{run_n} ====')\n",
    "        print(e)\n",
    "\n",
    "    return e"
   ]
  },
  {
   "cell_type": "code",
   "execution_count": 139,
   "metadata": {},
   "outputs": [],
   "source": [
    "events_list = [graph_utils.create_graph(envs_path  / file_name, llm, MAX_INFERENCE, GRAPH_TYPE, PROMPTING_METHOD, trial_name = TRIAL_NAME) for file_name in list(sorted(files, key=extract_number_from_filename))]"
   ]
  },
  {
   "cell_type": "code",
   "execution_count": 140,
   "metadata": {},
   "outputs": [],
   "source": [
    "results = await asyncio.gather(*[run_events(events, i) for i, events in enumerate(events_list)],return_exceptions=True)"
   ]
  },
  {
   "cell_type": "code",
   "execution_count": 141,
   "metadata": {},
   "outputs": [
    {
     "data": {
      "text/plain": [
       "[openai.BadRequestError('Error code: 400 - {\\'error\\': {\\'message\\': \"Unsupported value: \\'messages[0].role\\' does not support \\'system\\' with this model.\", \\'type\\': \\'invalid_request_error\\', \\'param\\': \\'messages[0].role\\', \\'code\\': \\'unsupported_value\\'}}'),\n",
       " openai.BadRequestError('Error code: 400 - {\\'error\\': {\\'message\\': \"Unsupported value: \\'messages[0].role\\' does not support \\'system\\' with this model.\", \\'type\\': \\'invalid_request_error\\', \\'param\\': \\'messages[0].role\\', \\'code\\': \\'unsupported_value\\'}}'),\n",
       " openai.BadRequestError('Error code: 400 - {\\'error\\': {\\'message\\': \"Unsupported value: \\'messages[0].role\\' does not support \\'system\\' with this model.\", \\'type\\': \\'invalid_request_error\\', \\'param\\': \\'messages[0].role\\', \\'code\\': \\'unsupported_value\\'}}'),\n",
       " openai.BadRequestError('Error code: 400 - {\\'error\\': {\\'message\\': \"Unsupported value: \\'messages[0].role\\' does not support \\'system\\' with this model.\", \\'type\\': \\'invalid_request_error\\', \\'param\\': \\'messages[0].role\\', \\'code\\': \\'unsupported_value\\'}}'),\n",
       " openai.BadRequestError('Error code: 400 - {\\'error\\': {\\'message\\': \"Unsupported value: \\'messages[0].role\\' does not support \\'system\\' with this model.\", \\'type\\': \\'invalid_request_error\\', \\'param\\': \\'messages[0].role\\', \\'code\\': \\'unsupported_value\\'}}'),\n",
       " openai.BadRequestError('Error code: 400 - {\\'error\\': {\\'message\\': \"Unsupported value: \\'messages[0].role\\' does not support \\'system\\' with this model.\", \\'type\\': \\'invalid_request_error\\', \\'param\\': \\'messages[0].role\\', \\'code\\': \\'unsupported_value\\'}}'),\n",
       " openai.BadRequestError('Error code: 400 - {\\'error\\': {\\'message\\': \"Unsupported value: \\'messages[0].role\\' does not support \\'system\\' with this model.\", \\'type\\': \\'invalid_request_error\\', \\'param\\': \\'messages[0].role\\', \\'code\\': \\'unsupported_value\\'}}'),\n",
       " openai.BadRequestError('Error code: 400 - {\\'error\\': {\\'message\\': \"Unsupported value: \\'messages[0].role\\' does not support \\'system\\' with this model.\", \\'type\\': \\'invalid_request_error\\', \\'param\\': \\'messages[0].role\\', \\'code\\': \\'unsupported_value\\'}}'),\n",
       " openai.BadRequestError('Error code: 400 - {\\'error\\': {\\'message\\': \"Unsupported value: \\'messages[0].role\\' does not support \\'system\\' with this model.\", \\'type\\': \\'invalid_request_error\\', \\'param\\': \\'messages[0].role\\', \\'code\\': \\'unsupported_value\\'}}'),\n",
       " openai.BadRequestError('Error code: 400 - {\\'error\\': {\\'message\\': \"Unsupported value: \\'messages[0].role\\' does not support \\'system\\' with this model.\", \\'type\\': \\'invalid_request_error\\', \\'param\\': \\'messages[0].role\\', \\'code\\': \\'unsupported_value\\'}}'),\n",
       " openai.BadRequestError('Error code: 400 - {\\'error\\': {\\'message\\': \"Unsupported value: \\'messages[0].role\\' does not support \\'system\\' with this model.\", \\'type\\': \\'invalid_request_error\\', \\'param\\': \\'messages[0].role\\', \\'code\\': \\'unsupported_value\\'}}'),\n",
       " openai.BadRequestError('Error code: 400 - {\\'error\\': {\\'message\\': \"Unsupported value: \\'messages[0].role\\' does not support \\'system\\' with this model.\", \\'type\\': \\'invalid_request_error\\', \\'param\\': \\'messages[0].role\\', \\'code\\': \\'unsupported_value\\'}}'),\n",
       " openai.BadRequestError('Error code: 400 - {\\'error\\': {\\'message\\': \"Unsupported value: \\'messages[0].role\\' does not support \\'system\\' with this model.\", \\'type\\': \\'invalid_request_error\\', \\'param\\': \\'messages[0].role\\', \\'code\\': \\'unsupported_value\\'}}'),\n",
       " openai.BadRequestError('Error code: 400 - {\\'error\\': {\\'message\\': \"Unsupported value: \\'messages[0].role\\' does not support \\'system\\' with this model.\", \\'type\\': \\'invalid_request_error\\', \\'param\\': \\'messages[0].role\\', \\'code\\': \\'unsupported_value\\'}}'),\n",
       " openai.BadRequestError('Error code: 400 - {\\'error\\': {\\'message\\': \"Unsupported value: \\'messages[0].role\\' does not support \\'system\\' with this model.\", \\'type\\': \\'invalid_request_error\\', \\'param\\': \\'messages[0].role\\', \\'code\\': \\'unsupported_value\\'}}'),\n",
       " openai.BadRequestError('Error code: 400 - {\\'error\\': {\\'message\\': \"Unsupported value: \\'messages[0].role\\' does not support \\'system\\' with this model.\", \\'type\\': \\'invalid_request_error\\', \\'param\\': \\'messages[0].role\\', \\'code\\': \\'unsupported_value\\'}}'),\n",
       " openai.BadRequestError('Error code: 400 - {\\'error\\': {\\'message\\': \"Unsupported value: \\'messages[0].role\\' does not support \\'system\\' with this model.\", \\'type\\': \\'invalid_request_error\\', \\'param\\': \\'messages[0].role\\', \\'code\\': \\'unsupported_value\\'}}'),\n",
       " openai.BadRequestError('Error code: 400 - {\\'error\\': {\\'message\\': \"Unsupported value: \\'messages[0].role\\' does not support \\'system\\' with this model.\", \\'type\\': \\'invalid_request_error\\', \\'param\\': \\'messages[0].role\\', \\'code\\': \\'unsupported_value\\'}}'),\n",
       " openai.BadRequestError('Error code: 400 - {\\'error\\': {\\'message\\': \"Unsupported value: \\'messages[0].role\\' does not support \\'system\\' with this model.\", \\'type\\': \\'invalid_request_error\\', \\'param\\': \\'messages[0].role\\', \\'code\\': \\'unsupported_value\\'}}'),\n",
       " openai.BadRequestError('Error code: 400 - {\\'error\\': {\\'message\\': \"Unsupported value: \\'messages[0].role\\' does not support \\'system\\' with this model.\", \\'type\\': \\'invalid_request_error\\', \\'param\\': \\'messages[0].role\\', \\'code\\': \\'unsupported_value\\'}}'),\n",
       " openai.BadRequestError('Error code: 400 - {\\'error\\': {\\'message\\': \"Unsupported value: \\'messages[0].role\\' does not support \\'system\\' with this model.\", \\'type\\': \\'invalid_request_error\\', \\'param\\': \\'messages[0].role\\', \\'code\\': \\'unsupported_value\\'}}'),\n",
       " openai.BadRequestError('Error code: 400 - {\\'error\\': {\\'message\\': \"Unsupported value: \\'messages[0].role\\' does not support \\'system\\' with this model.\", \\'type\\': \\'invalid_request_error\\', \\'param\\': \\'messages[0].role\\', \\'code\\': \\'unsupported_value\\'}}'),\n",
       " openai.BadRequestError('Error code: 400 - {\\'error\\': {\\'message\\': \"Unsupported value: \\'messages[0].role\\' does not support \\'system\\' with this model.\", \\'type\\': \\'invalid_request_error\\', \\'param\\': \\'messages[0].role\\', \\'code\\': \\'unsupported_value\\'}}'),\n",
       " openai.BadRequestError('Error code: 400 - {\\'error\\': {\\'message\\': \"Unsupported value: \\'messages[0].role\\' does not support \\'system\\' with this model.\", \\'type\\': \\'invalid_request_error\\', \\'param\\': \\'messages[0].role\\', \\'code\\': \\'unsupported_value\\'}}'),\n",
       " openai.BadRequestError('Error code: 400 - {\\'error\\': {\\'message\\': \"Unsupported value: \\'messages[0].role\\' does not support \\'system\\' with this model.\", \\'type\\': \\'invalid_request_error\\', \\'param\\': \\'messages[0].role\\', \\'code\\': \\'unsupported_value\\'}}'),\n",
       " openai.BadRequestError('Error code: 400 - {\\'error\\': {\\'message\\': \"Unsupported value: \\'messages[0].role\\' does not support \\'system\\' with this model.\", \\'type\\': \\'invalid_request_error\\', \\'param\\': \\'messages[0].role\\', \\'code\\': \\'unsupported_value\\'}}'),\n",
       " openai.BadRequestError('Error code: 400 - {\\'error\\': {\\'message\\': \"Unsupported value: \\'messages[0].role\\' does not support \\'system\\' with this model.\", \\'type\\': \\'invalid_request_error\\', \\'param\\': \\'messages[0].role\\', \\'code\\': \\'unsupported_value\\'}}'),\n",
       " openai.BadRequestError('Error code: 400 - {\\'error\\': {\\'message\\': \"Unsupported value: \\'messages[0].role\\' does not support \\'system\\' with this model.\", \\'type\\': \\'invalid_request_error\\', \\'param\\': \\'messages[0].role\\', \\'code\\': \\'unsupported_value\\'}}'),\n",
       " openai.BadRequestError('Error code: 400 - {\\'error\\': {\\'message\\': \"Unsupported value: \\'messages[0].role\\' does not support \\'system\\' with this model.\", \\'type\\': \\'invalid_request_error\\', \\'param\\': \\'messages[0].role\\', \\'code\\': \\'unsupported_value\\'}}'),\n",
       " openai.BadRequestError('Error code: 400 - {\\'error\\': {\\'message\\': \"Unsupported value: \\'messages[0].role\\' does not support \\'system\\' with this model.\", \\'type\\': \\'invalid_request_error\\', \\'param\\': \\'messages[0].role\\', \\'code\\': \\'unsupported_value\\'}}')]"
      ]
     },
     "execution_count": 141,
     "metadata": {},
     "output_type": "execute_result"
    }
   ],
   "source": [
    "results"
   ]
  },
  {
   "cell_type": "code",
   "execution_count": 119,
   "metadata": {},
   "outputs": [],
   "source": [
    "import json\n",
    "json.dump(results, open(save_path / 'results.json', 'w'))"
   ]
  },
  {
   "cell_type": "code",
   "execution_count": 44,
   "metadata": {},
   "outputs": [],
   "source": [
    "import json\n",
    "import env\n",
    "import importlib\n",
    "importlib.reload(env)\n",
    "def inspect_path(env_num):\n",
    "    with open(save_path / f'env_{env_num}.json') as f:\n",
    "        data = json.load(f)\n",
    "    \n",
    "    envr = env.env.from_vals(data['env_config'])\n",
    "    try:\n",
    "        args = data['final_vals']['messages'][-2]['kwargs']['tool_calls'][0]['args']\n",
    "    except Exception as e:\n",
    "        print(e)\n",
    "        return data['final_vals']['messages']\n",
    "    agent_paths = {k : [(p['x'], p['y'], p['z'])for p in v] for k, v in args.items()}\n",
    "\n",
    "    return envr.visualize(model=MODEL, agent_plan=agent_paths), agent_paths, data['final_vals']['messages'], envr"
   ]
  },
  {
   "cell_type": "code",
   "execution_count": 144,
   "metadata": {},
   "outputs": [],
   "source": [
    "out = inspect_path(0)"
   ]
  },
  {
   "cell_type": "code",
   "execution_count": 147,
   "metadata": {},
   "outputs": [
    {
     "data": {
      "application/vnd.plotly.v1+json": {
       "config": {
        "plotlyServerURL": "https://plot.ly"
       },
       "data": [
        {
         "alphahull": 1,
         "color": "rgba(25,25,25,0.3)",
         "flatshading": true,
         "lighting": {
          "diffuse": 0.1,
          "roughness": 0.5,
          "specular": 2
         },
         "type": "mesh3d",
         "x": [
          6.5,
          6.5,
          7.5,
          7.5,
          6.5,
          6.5,
          7.5,
          7.5
         ],
         "y": [
          4.5,
          4.5,
          4.5,
          4.5,
          5.5,
          5.5,
          5.5,
          5.5
         ],
         "z": [
          2.5,
          3.5,
          2.5,
          3.5,
          2.5,
          3.5,
          2.5,
          3.5
         ]
        },
        {
         "alphahull": 1,
         "color": "rgba(25,25,25,0.3)",
         "flatshading": true,
         "lighting": {
          "diffuse": 0.1,
          "roughness": 0.5,
          "specular": 2
         },
         "type": "mesh3d",
         "x": [
          8.5,
          8.5,
          9.5,
          9.5,
          8.5,
          8.5,
          9.5,
          9.5
         ],
         "y": [
          5.5,
          5.5,
          5.5,
          5.5,
          6.5,
          6.5,
          6.5,
          6.5
         ],
         "z": [
          7.5,
          8.5,
          7.5,
          8.5,
          7.5,
          8.5,
          7.5,
          8.5
         ]
        },
        {
         "alphahull": 1,
         "color": "rgba(25,25,25,0.3)",
         "flatshading": true,
         "lighting": {
          "diffuse": 0.1,
          "roughness": 0.5,
          "specular": 2
         },
         "type": "mesh3d",
         "x": [
          3.5,
          3.5,
          4.5,
          4.5,
          3.5,
          3.5,
          4.5,
          4.5
         ],
         "y": [
          3.5,
          3.5,
          3.5,
          3.5,
          4.5,
          4.5,
          4.5,
          4.5
         ],
         "z": [
          8.5,
          9.5,
          8.5,
          9.5,
          8.5,
          9.5,
          8.5,
          9.5
         ]
        },
        {
         "alphahull": 1,
         "color": "rgba(25,25,25,0.3)",
         "flatshading": true,
         "lighting": {
          "diffuse": 0.1,
          "roughness": 0.5,
          "specular": 2
         },
         "type": "mesh3d",
         "x": [
          3.5,
          3.5,
          4.5,
          4.5,
          3.5,
          3.5,
          4.5,
          4.5
         ],
         "y": [
          9.5,
          9.5,
          9.5,
          9.5,
          10.5,
          10.5,
          10.5,
          10.5
         ],
         "z": [
          8.5,
          9.5,
          8.5,
          9.5,
          8.5,
          9.5,
          8.5,
          9.5
         ]
        },
        {
         "alphahull": 1,
         "color": "rgba(25,25,25,0.3)",
         "flatshading": true,
         "lighting": {
          "diffuse": 0.1,
          "roughness": 0.5,
          "specular": 2
         },
         "type": "mesh3d",
         "x": [
          1.5,
          1.5,
          2.5,
          2.5,
          1.5,
          1.5,
          2.5,
          2.5
         ],
         "y": [
          9.5,
          9.5,
          9.5,
          9.5,
          10.5,
          10.5,
          10.5,
          10.5
         ],
         "z": [
          7.5,
          8.5,
          7.5,
          8.5,
          7.5,
          8.5,
          7.5,
          8.5
         ]
        },
        {
         "alphahull": 1,
         "color": "rgba(25,25,25,0.3)",
         "flatshading": true,
         "lighting": {
          "diffuse": 0.1,
          "roughness": 0.5,
          "specular": 2
         },
         "type": "mesh3d",
         "x": [
          3.5,
          3.5,
          4.5,
          4.5,
          3.5,
          3.5,
          4.5,
          4.5
         ],
         "y": [
          7.5,
          7.5,
          7.5,
          7.5,
          8.5,
          8.5,
          8.5,
          8.5
         ],
         "z": [
          3.5,
          4.5,
          3.5,
          4.5,
          3.5,
          4.5,
          3.5,
          4.5
         ]
        },
        {
         "alphahull": 1,
         "color": "rgba(25,25,25,0.3)",
         "flatshading": true,
         "lighting": {
          "diffuse": 0.1,
          "roughness": 0.5,
          "specular": 2
         },
         "type": "mesh3d",
         "x": [
          2.5,
          2.5,
          3.5,
          3.5,
          2.5,
          2.5,
          3.5,
          3.5
         ],
         "y": [
          9.5,
          9.5,
          9.5,
          9.5,
          10.5,
          10.5,
          10.5,
          10.5
         ],
         "z": [
          8.5,
          9.5,
          8.5,
          9.5,
          8.5,
          9.5,
          8.5,
          9.5
         ]
        },
        {
         "alphahull": 1,
         "color": "rgba(25,25,25,0.3)",
         "flatshading": true,
         "lighting": {
          "diffuse": 0.1,
          "roughness": 0.5,
          "specular": 2
         },
         "type": "mesh3d",
         "x": [
          8.5,
          8.5,
          9.5,
          9.5,
          8.5,
          8.5,
          9.5,
          9.5
         ],
         "y": [
          0.5,
          0.5,
          0.5,
          0.5,
          1.5,
          1.5,
          1.5,
          1.5
         ],
         "z": [
          3.5,
          4.5,
          3.5,
          4.5,
          3.5,
          4.5,
          3.5,
          4.5
         ]
        },
        {
         "alphahull": 1,
         "color": "rgba(25,25,25,0.3)",
         "flatshading": true,
         "lighting": {
          "diffuse": 0.1,
          "roughness": 0.5,
          "specular": 2
         },
         "type": "mesh3d",
         "x": [
          1.5,
          1.5,
          2.5,
          2.5,
          1.5,
          1.5,
          2.5,
          2.5
         ],
         "y": [
          0.5,
          0.5,
          0.5,
          0.5,
          1.5,
          1.5,
          1.5,
          1.5
         ],
         "z": [
          0.5,
          1.5,
          0.5,
          1.5,
          0.5,
          1.5,
          0.5,
          1.5
         ]
        },
        {
         "alphahull": 1,
         "color": "rgba(25,25,25,0.3)",
         "flatshading": true,
         "lighting": {
          "diffuse": 0.1,
          "roughness": 0.5,
          "specular": 2
         },
         "type": "mesh3d",
         "x": [
          0.5,
          0.5,
          1.5,
          1.5,
          0.5,
          0.5,
          1.5,
          1.5
         ],
         "y": [
          5.5,
          5.5,
          5.5,
          5.5,
          6.5,
          6.5,
          6.5,
          6.5
         ],
         "z": [
          3.5,
          4.5,
          3.5,
          4.5,
          3.5,
          4.5,
          3.5,
          4.5
         ]
        },
        {
         "marker": {
          "color": "rgba(89.0,100.0,240.0,1)"
         },
         "mode": "markers",
         "name": "Alice",
         "type": "scatter3d",
         "x": [
          5
         ],
         "y": [
          5
         ],
         "z": [
          10
         ]
        },
        {
         "line": {
          "color": "rgba(99.0,110.0,250.0,1)"
         },
         "mode": "lines",
         "showlegend": false,
         "type": "scatter3d",
         "x": [
          5,
          5,
          5,
          5,
          5,
          5,
          5,
          5,
          5,
          5,
          5,
          5,
          5,
          5,
          5,
          5
         ],
         "y": [
          5,
          5,
          6,
          7,
          8,
          9,
          9,
          9,
          9,
          9,
          9,
          9,
          9,
          9,
          9,
          9
         ],
         "z": [
          10,
          10,
          10,
          10,
          10,
          10,
          9,
          8,
          7,
          6,
          5,
          4,
          3,
          2,
          1,
          1
         ]
        },
        {
         "marker": {
          "color": "rgba(109.0,120.0,255,1)"
         },
         "mode": "markers",
         "showlegend": false,
         "type": "scatter3d",
         "x": [
          5
         ],
         "y": [
          9
         ],
         "z": [
          1
         ]
        },
        {
         "marker": {
          "color": "rgba(229.0,75.0,49.0,1)"
         },
         "mode": "markers",
         "name": "Bob",
         "type": "scatter3d",
         "x": [
          1
         ],
         "y": [
          10
         ],
         "z": [
          5
         ]
        },
        {
         "line": {
          "color": "rgba(239.0,85.0,59.0,1)"
         },
         "mode": "lines",
         "showlegend": false,
         "type": "scatter3d",
         "x": [
          1,
          1,
          2,
          3,
          4,
          5,
          6,
          6,
          6,
          6,
          6,
          6,
          6,
          6,
          6,
          6,
          6
         ],
         "y": [
          10,
          10,
          10,
          10,
          10,
          10,
          10,
          9,
          8,
          7,
          6,
          5,
          4,
          4,
          4,
          4,
          4
         ],
         "z": [
          5,
          5,
          5,
          5,
          5,
          5,
          5,
          5,
          5,
          5,
          5,
          5,
          5,
          6,
          7,
          8,
          8
         ]
        },
        {
         "marker": {
          "color": "rgba(249.0,95.0,69.0,1)"
         },
         "mode": "markers",
         "showlegend": false,
         "type": "scatter3d",
         "x": [
          6
         ],
         "y": [
          4
         ],
         "z": [
          8
         ]
        },
        {
         "marker": {
          "color": "rgba(0,194.0,140.0,1)"
         },
         "mode": "markers",
         "name": "Chad",
         "type": "scatter3d",
         "x": [
          3
         ],
         "y": [
          4
         ],
         "z": [
          2
         ]
        },
        {
         "line": {
          "color": "rgba(0.0,204.0,150.0,1)"
         },
         "mode": "lines",
         "showlegend": false,
         "type": "scatter3d",
         "x": [
          3,
          3,
          4,
          5,
          6,
          7,
          8,
          9,
          10,
          10,
          10,
          10,
          10,
          10,
          10,
          10
         ],
         "y": [
          4,
          4,
          4,
          4,
          4,
          4,
          4,
          4,
          4,
          3,
          2,
          1,
          1,
          1,
          1,
          1
         ],
         "z": [
          2,
          2,
          2,
          2,
          2,
          2,
          2,
          2,
          2,
          2,
          2,
          2,
          3,
          4,
          5,
          5
         ]
        },
        {
         "marker": {
          "color": "rgba(10.0,214.0,160.0,1)"
         },
         "mode": "markers",
         "showlegend": false,
         "type": "scatter3d",
         "x": [
          10
         ],
         "y": [
          1
         ],
         "z": [
          5
         ]
        },
        {
         "marker": {
          "color": "rgba(161.0,89.0,240.0,1)"
         },
         "mode": "markers",
         "name": "Dave",
         "type": "scatter3d",
         "x": [
          10
         ],
         "y": [
          7
         ],
         "z": [
          1
         ]
        },
        {
         "line": {
          "color": "rgba(171.0,99.0,250.0,1)"
         },
         "mode": "lines",
         "showlegend": false,
         "type": "scatter3d",
         "x": [
          10,
          10,
          10,
          10,
          10,
          10,
          10,
          10,
          9,
          8,
          7,
          6,
          5,
          4,
          3,
          3,
          2,
          1,
          1,
          1,
          1,
          1,
          1,
          1,
          1,
          1,
          1
         ],
         "y": [
          7,
          7,
          6,
          5,
          4,
          3,
          2,
          1,
          1,
          1,
          1,
          1,
          1,
          1,
          1,
          2,
          2,
          2,
          1,
          1,
          1,
          1,
          1,
          1,
          1,
          1,
          1
         ],
         "z": [
          1,
          1,
          1,
          1,
          1,
          1,
          1,
          1,
          1,
          1,
          1,
          1,
          1,
          1,
          1,
          1,
          1,
          1,
          1,
          2,
          3,
          4,
          5,
          6,
          7,
          8,
          8
         ]
        },
        {
         "marker": {
          "color": "rgba(181.0,109.0,255,1)"
         },
         "mode": "markers",
         "showlegend": false,
         "type": "scatter3d",
         "x": [
          1
         ],
         "y": [
          1
         ],
         "z": [
          8
         ]
        }
       ],
       "layout": {
        "template": {
         "data": {
          "bar": [
           {
            "error_x": {
             "color": "#2a3f5f"
            },
            "error_y": {
             "color": "#2a3f5f"
            },
            "marker": {
             "line": {
              "color": "#E5ECF6",
              "width": 0.5
             },
             "pattern": {
              "fillmode": "overlay",
              "size": 10,
              "solidity": 0.2
             }
            },
            "type": "bar"
           }
          ],
          "barpolar": [
           {
            "marker": {
             "line": {
              "color": "#E5ECF6",
              "width": 0.5
             },
             "pattern": {
              "fillmode": "overlay",
              "size": 10,
              "solidity": 0.2
             }
            },
            "type": "barpolar"
           }
          ],
          "carpet": [
           {
            "aaxis": {
             "endlinecolor": "#2a3f5f",
             "gridcolor": "white",
             "linecolor": "white",
             "minorgridcolor": "white",
             "startlinecolor": "#2a3f5f"
            },
            "baxis": {
             "endlinecolor": "#2a3f5f",
             "gridcolor": "white",
             "linecolor": "white",
             "minorgridcolor": "white",
             "startlinecolor": "#2a3f5f"
            },
            "type": "carpet"
           }
          ],
          "choropleth": [
           {
            "colorbar": {
             "outlinewidth": 0,
             "ticks": ""
            },
            "type": "choropleth"
           }
          ],
          "contour": [
           {
            "colorbar": {
             "outlinewidth": 0,
             "ticks": ""
            },
            "colorscale": [
             [
              0,
              "#0d0887"
             ],
             [
              0.1111111111111111,
              "#46039f"
             ],
             [
              0.2222222222222222,
              "#7201a8"
             ],
             [
              0.3333333333333333,
              "#9c179e"
             ],
             [
              0.4444444444444444,
              "#bd3786"
             ],
             [
              0.5555555555555556,
              "#d8576b"
             ],
             [
              0.6666666666666666,
              "#ed7953"
             ],
             [
              0.7777777777777778,
              "#fb9f3a"
             ],
             [
              0.8888888888888888,
              "#fdca26"
             ],
             [
              1,
              "#f0f921"
             ]
            ],
            "type": "contour"
           }
          ],
          "contourcarpet": [
           {
            "colorbar": {
             "outlinewidth": 0,
             "ticks": ""
            },
            "type": "contourcarpet"
           }
          ],
          "heatmap": [
           {
            "colorbar": {
             "outlinewidth": 0,
             "ticks": ""
            },
            "colorscale": [
             [
              0,
              "#0d0887"
             ],
             [
              0.1111111111111111,
              "#46039f"
             ],
             [
              0.2222222222222222,
              "#7201a8"
             ],
             [
              0.3333333333333333,
              "#9c179e"
             ],
             [
              0.4444444444444444,
              "#bd3786"
             ],
             [
              0.5555555555555556,
              "#d8576b"
             ],
             [
              0.6666666666666666,
              "#ed7953"
             ],
             [
              0.7777777777777778,
              "#fb9f3a"
             ],
             [
              0.8888888888888888,
              "#fdca26"
             ],
             [
              1,
              "#f0f921"
             ]
            ],
            "type": "heatmap"
           }
          ],
          "heatmapgl": [
           {
            "colorbar": {
             "outlinewidth": 0,
             "ticks": ""
            },
            "colorscale": [
             [
              0,
              "#0d0887"
             ],
             [
              0.1111111111111111,
              "#46039f"
             ],
             [
              0.2222222222222222,
              "#7201a8"
             ],
             [
              0.3333333333333333,
              "#9c179e"
             ],
             [
              0.4444444444444444,
              "#bd3786"
             ],
             [
              0.5555555555555556,
              "#d8576b"
             ],
             [
              0.6666666666666666,
              "#ed7953"
             ],
             [
              0.7777777777777778,
              "#fb9f3a"
             ],
             [
              0.8888888888888888,
              "#fdca26"
             ],
             [
              1,
              "#f0f921"
             ]
            ],
            "type": "heatmapgl"
           }
          ],
          "histogram": [
           {
            "marker": {
             "pattern": {
              "fillmode": "overlay",
              "size": 10,
              "solidity": 0.2
             }
            },
            "type": "histogram"
           }
          ],
          "histogram2d": [
           {
            "colorbar": {
             "outlinewidth": 0,
             "ticks": ""
            },
            "colorscale": [
             [
              0,
              "#0d0887"
             ],
             [
              0.1111111111111111,
              "#46039f"
             ],
             [
              0.2222222222222222,
              "#7201a8"
             ],
             [
              0.3333333333333333,
              "#9c179e"
             ],
             [
              0.4444444444444444,
              "#bd3786"
             ],
             [
              0.5555555555555556,
              "#d8576b"
             ],
             [
              0.6666666666666666,
              "#ed7953"
             ],
             [
              0.7777777777777778,
              "#fb9f3a"
             ],
             [
              0.8888888888888888,
              "#fdca26"
             ],
             [
              1,
              "#f0f921"
             ]
            ],
            "type": "histogram2d"
           }
          ],
          "histogram2dcontour": [
           {
            "colorbar": {
             "outlinewidth": 0,
             "ticks": ""
            },
            "colorscale": [
             [
              0,
              "#0d0887"
             ],
             [
              0.1111111111111111,
              "#46039f"
             ],
             [
              0.2222222222222222,
              "#7201a8"
             ],
             [
              0.3333333333333333,
              "#9c179e"
             ],
             [
              0.4444444444444444,
              "#bd3786"
             ],
             [
              0.5555555555555556,
              "#d8576b"
             ],
             [
              0.6666666666666666,
              "#ed7953"
             ],
             [
              0.7777777777777778,
              "#fb9f3a"
             ],
             [
              0.8888888888888888,
              "#fdca26"
             ],
             [
              1,
              "#f0f921"
             ]
            ],
            "type": "histogram2dcontour"
           }
          ],
          "mesh3d": [
           {
            "colorbar": {
             "outlinewidth": 0,
             "ticks": ""
            },
            "type": "mesh3d"
           }
          ],
          "parcoords": [
           {
            "line": {
             "colorbar": {
              "outlinewidth": 0,
              "ticks": ""
             }
            },
            "type": "parcoords"
           }
          ],
          "pie": [
           {
            "automargin": true,
            "type": "pie"
           }
          ],
          "scatter": [
           {
            "fillpattern": {
             "fillmode": "overlay",
             "size": 10,
             "solidity": 0.2
            },
            "type": "scatter"
           }
          ],
          "scatter3d": [
           {
            "line": {
             "colorbar": {
              "outlinewidth": 0,
              "ticks": ""
             }
            },
            "marker": {
             "colorbar": {
              "outlinewidth": 0,
              "ticks": ""
             }
            },
            "type": "scatter3d"
           }
          ],
          "scattercarpet": [
           {
            "marker": {
             "colorbar": {
              "outlinewidth": 0,
              "ticks": ""
             }
            },
            "type": "scattercarpet"
           }
          ],
          "scattergeo": [
           {
            "marker": {
             "colorbar": {
              "outlinewidth": 0,
              "ticks": ""
             }
            },
            "type": "scattergeo"
           }
          ],
          "scattergl": [
           {
            "marker": {
             "colorbar": {
              "outlinewidth": 0,
              "ticks": ""
             }
            },
            "type": "scattergl"
           }
          ],
          "scattermapbox": [
           {
            "marker": {
             "colorbar": {
              "outlinewidth": 0,
              "ticks": ""
             }
            },
            "type": "scattermapbox"
           }
          ],
          "scatterpolar": [
           {
            "marker": {
             "colorbar": {
              "outlinewidth": 0,
              "ticks": ""
             }
            },
            "type": "scatterpolar"
           }
          ],
          "scatterpolargl": [
           {
            "marker": {
             "colorbar": {
              "outlinewidth": 0,
              "ticks": ""
             }
            },
            "type": "scatterpolargl"
           }
          ],
          "scatterternary": [
           {
            "marker": {
             "colorbar": {
              "outlinewidth": 0,
              "ticks": ""
             }
            },
            "type": "scatterternary"
           }
          ],
          "surface": [
           {
            "colorbar": {
             "outlinewidth": 0,
             "ticks": ""
            },
            "colorscale": [
             [
              0,
              "#0d0887"
             ],
             [
              0.1111111111111111,
              "#46039f"
             ],
             [
              0.2222222222222222,
              "#7201a8"
             ],
             [
              0.3333333333333333,
              "#9c179e"
             ],
             [
              0.4444444444444444,
              "#bd3786"
             ],
             [
              0.5555555555555556,
              "#d8576b"
             ],
             [
              0.6666666666666666,
              "#ed7953"
             ],
             [
              0.7777777777777778,
              "#fb9f3a"
             ],
             [
              0.8888888888888888,
              "#fdca26"
             ],
             [
              1,
              "#f0f921"
             ]
            ],
            "type": "surface"
           }
          ],
          "table": [
           {
            "cells": {
             "fill": {
              "color": "#EBF0F8"
             },
             "line": {
              "color": "white"
             }
            },
            "header": {
             "fill": {
              "color": "#C8D4E3"
             },
             "line": {
              "color": "white"
             }
            },
            "type": "table"
           }
          ]
         },
         "layout": {
          "annotationdefaults": {
           "arrowcolor": "#2a3f5f",
           "arrowhead": 0,
           "arrowwidth": 1
          },
          "autotypenumbers": "strict",
          "coloraxis": {
           "colorbar": {
            "outlinewidth": 0,
            "ticks": ""
           }
          },
          "colorscale": {
           "diverging": [
            [
             0,
             "#8e0152"
            ],
            [
             0.1,
             "#c51b7d"
            ],
            [
             0.2,
             "#de77ae"
            ],
            [
             0.3,
             "#f1b6da"
            ],
            [
             0.4,
             "#fde0ef"
            ],
            [
             0.5,
             "#f7f7f7"
            ],
            [
             0.6,
             "#e6f5d0"
            ],
            [
             0.7,
             "#b8e186"
            ],
            [
             0.8,
             "#7fbc41"
            ],
            [
             0.9,
             "#4d9221"
            ],
            [
             1,
             "#276419"
            ]
           ],
           "sequential": [
            [
             0,
             "#0d0887"
            ],
            [
             0.1111111111111111,
             "#46039f"
            ],
            [
             0.2222222222222222,
             "#7201a8"
            ],
            [
             0.3333333333333333,
             "#9c179e"
            ],
            [
             0.4444444444444444,
             "#bd3786"
            ],
            [
             0.5555555555555556,
             "#d8576b"
            ],
            [
             0.6666666666666666,
             "#ed7953"
            ],
            [
             0.7777777777777778,
             "#fb9f3a"
            ],
            [
             0.8888888888888888,
             "#fdca26"
            ],
            [
             1,
             "#f0f921"
            ]
           ],
           "sequentialminus": [
            [
             0,
             "#0d0887"
            ],
            [
             0.1111111111111111,
             "#46039f"
            ],
            [
             0.2222222222222222,
             "#7201a8"
            ],
            [
             0.3333333333333333,
             "#9c179e"
            ],
            [
             0.4444444444444444,
             "#bd3786"
            ],
            [
             0.5555555555555556,
             "#d8576b"
            ],
            [
             0.6666666666666666,
             "#ed7953"
            ],
            [
             0.7777777777777778,
             "#fb9f3a"
            ],
            [
             0.8888888888888888,
             "#fdca26"
            ],
            [
             1,
             "#f0f921"
            ]
           ]
          },
          "colorway": [
           "#636efa",
           "#EF553B",
           "#00cc96",
           "#ab63fa",
           "#FFA15A",
           "#19d3f3",
           "#FF6692",
           "#B6E880",
           "#FF97FF",
           "#FECB52"
          ],
          "font": {
           "color": "#2a3f5f"
          },
          "geo": {
           "bgcolor": "white",
           "lakecolor": "white",
           "landcolor": "#E5ECF6",
           "showlakes": true,
           "showland": true,
           "subunitcolor": "white"
          },
          "hoverlabel": {
           "align": "left"
          },
          "hovermode": "closest",
          "mapbox": {
           "style": "light"
          },
          "paper_bgcolor": "white",
          "plot_bgcolor": "#E5ECF6",
          "polar": {
           "angularaxis": {
            "gridcolor": "white",
            "linecolor": "white",
            "ticks": ""
           },
           "bgcolor": "#E5ECF6",
           "radialaxis": {
            "gridcolor": "white",
            "linecolor": "white",
            "ticks": ""
           }
          },
          "scene": {
           "xaxis": {
            "backgroundcolor": "#E5ECF6",
            "gridcolor": "white",
            "gridwidth": 2,
            "linecolor": "white",
            "showbackground": true,
            "ticks": "",
            "zerolinecolor": "white"
           },
           "yaxis": {
            "backgroundcolor": "#E5ECF6",
            "gridcolor": "white",
            "gridwidth": 2,
            "linecolor": "white",
            "showbackground": true,
            "ticks": "",
            "zerolinecolor": "white"
           },
           "zaxis": {
            "backgroundcolor": "#E5ECF6",
            "gridcolor": "white",
            "gridwidth": 2,
            "linecolor": "white",
            "showbackground": true,
            "ticks": "",
            "zerolinecolor": "white"
           }
          },
          "shapedefaults": {
           "line": {
            "color": "#2a3f5f"
           }
          },
          "ternary": {
           "aaxis": {
            "gridcolor": "white",
            "linecolor": "white",
            "ticks": ""
           },
           "baxis": {
            "gridcolor": "white",
            "linecolor": "white",
            "ticks": ""
           },
           "bgcolor": "#E5ECF6",
           "caxis": {
            "gridcolor": "white",
            "linecolor": "white",
            "ticks": ""
           }
          },
          "title": {
           "x": 0.05
          },
          "xaxis": {
           "automargin": true,
           "gridcolor": "white",
           "linecolor": "white",
           "ticks": "",
           "title": {
            "standoff": 15
           },
           "zerolinecolor": "white",
           "zerolinewidth": 2
          },
          "yaxis": {
           "automargin": true,
           "gridcolor": "white",
           "linecolor": "white",
           "ticks": "",
           "title": {
            "standoff": 15
           },
           "zerolinecolor": "white",
           "zerolinewidth": 2
          }
         }
        }
       }
      }
     },
     "metadata": {},
     "output_type": "display_data"
    }
   ],
   "source": [
    "out[0]"
   ]
  },
  {
   "cell_type": "code",
   "execution_count": null,
   "metadata": {},
   "outputs": [],
   "source": [
    "[10,12,11]"
   ]
  }
 ],
 "metadata": {
  "kernelspec": {
   "display_name": "agents_v_test",
   "language": "python",
   "name": "python3"
  },
  "language_info": {
   "codemirror_mode": {
    "name": "ipython",
    "version": 3
   },
   "file_extension": ".py",
   "mimetype": "text/x-python",
   "name": "python",
   "nbconvert_exporter": "python",
   "pygments_lexer": "ipython3",
   "version": "3.9.20"
  }
 },
 "nbformat": 4,
 "nbformat_minor": 2
}
