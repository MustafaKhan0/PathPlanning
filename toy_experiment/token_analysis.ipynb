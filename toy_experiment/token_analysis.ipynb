{
 "cells": [
  {
   "cell_type": "code",
   "execution_count": 12,
   "metadata": {},
   "outputs": [],
   "source": [
    "import pandas as pd\n",
    "from pathlib import Path\n",
    "import json\n",
    "from pprint import pprint\n",
    "\n",
    "setup_data_path = Path().resolve() / 'setup_data'"
   ]
  },
  {
   "cell_type": "code",
   "execution_count": 4,
   "metadata": {},
   "outputs": [],
   "source": [
    "MODELS = ['gpt-4o-mini', 'gpt-4o'] # gpt-3.5-turbo-16k-0613\n",
    "EDITIONS = [f'FINAL_{i}' for i in range(4)]\n",
    "GRAPH_TYPE = 'central_agent_1'\n",
    "TRIAL_NAME = 'final_run_1'\n",
    "PROMPTING_METHOD = 'default'\n",
    "\n",
    "log_paths = {edit : {model : Path().resolve() / 'logs' / edit / GRAPH_TYPE / model / PROMPTING_METHOD / TRIAL_NAME for model in MODELS} for edit in EDITIONS}"
   ]
  },
  {
   "cell_type": "code",
   "execution_count": 40,
   "metadata": {},
   "outputs": [],
   "source": [
    "def process_toks(josn):\n",
    "    in_toks = 0\n",
    "    out_toks = 0\n",
    "    for v in josn['final_vals']['messages']:\n",
    "        if 'AIMessage' in v['id']:\n",
    "            in_toks += v['kwargs']['response_metadata']['token_usage']['prompt_tokens']\n",
    "            out_toks += v['kwargs']['response_metadata']['token_usage']['completion_tokens']\n",
    "    return in_toks,out_toks\n",
    "    "
   ]
  },
  {
   "cell_type": "code",
   "execution_count": 43,
   "metadata": {},
   "outputs": [],
   "source": [
    "save = {}\n",
    "for exp in EDITIONS:\n",
    "    save[exp] = {}\n",
    "    for model in log_paths[exp].keys():\n",
    "        comp = {'input' : 0, 'output' : 0}\n",
    "        for i in range(30):\n",
    "            with open(log_paths[exp][model] / f'env_{i}.json') as f:\n",
    "                data = json.load(f)\n",
    "            inp, outp = process_toks(data)\n",
    "            comp['input'] += inp\n",
    "            comp['output'] += outp\n",
    "        comp['input'] /= i+1\n",
    "        comp['output'] /= i+1\n",
    "        save[exp][model] = comp"
   ]
  },
  {
   "cell_type": "code",
   "execution_count": 52,
   "metadata": {},
   "outputs": [
    {
     "data": {
      "text/plain": [
       "{'gpt-4o-mini': {'input': 111686.6, 'output': 18816.233333333334},\n",
       " 'gpt-4o': {'input': 16981.933333333334, 'output': 4122.6}}"
      ]
     },
     "execution_count": 52,
     "metadata": {},
     "output_type": "execute_result"
    }
   ],
   "source": [
    "save['FINAL_3']"
   ]
  },
  {
   "cell_type": "code",
   "execution_count": 53,
   "metadata": {},
   "outputs": [],
   "source": [
    "comparis = {}\n",
    "\n",
    "for e in save:\n",
    "    comparis[e] = {'input' : 0, 'output' : 0}\n",
    "    for v in save[e]['gpt-4o']:\n",
    "        comparis[e][v] = save[e]['gpt-4o-mini'][v] / save[e]['gpt-4o'][v]"
   ]
  },
  {
   "cell_type": "code",
   "execution_count": 54,
   "metadata": {},
   "outputs": [
    {
     "data": {
      "text/plain": [
       "{'FINAL_0': {'input': 9.72785817883718, 'output': 4.376596045419565},\n",
       " 'FINAL_1': {'input': 5.874085137839953, 'output': 4.249004742617787},\n",
       " 'FINAL_2': {'input': 5.609337574298387, 'output': 4.634343167085594},\n",
       " 'FINAL_3': {'input': 6.5767894507496205, 'output': 4.564166626239104}}"
      ]
     },
     "execution_count": 54,
     "metadata": {},
     "output_type": "execute_result"
    }
   ],
   "source": [
    "comparis"
   ]
  }
 ],
 "metadata": {
  "kernelspec": {
   "display_name": "agents_v_test",
   "language": "python",
   "name": "python3"
  },
  "language_info": {
   "codemirror_mode": {
    "name": "ipython",
    "version": 3
   },
   "file_extension": ".py",
   "mimetype": "text/x-python",
   "name": "python",
   "nbconvert_exporter": "python",
   "pygments_lexer": "ipython3",
   "version": "3.9.20"
  }
 },
 "nbformat": 4,
 "nbformat_minor": 2
}
