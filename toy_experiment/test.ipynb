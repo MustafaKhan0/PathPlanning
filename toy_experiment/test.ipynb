{
 "cells": [
  {
   "cell_type": "code",
   "execution_count": 33,
   "metadata": {},
   "outputs": [],
   "source": [
    "from dotenv import load_dotenv\n",
    "load_dotenv()\n",
    "import os\n",
    "import openai\n",
    "from typing import List, Type, Optional\n",
    "from pydantic import BaseModel, create_model, field_validator, Field, ConfigDict\n",
    "from langchain_core.tools import BaseTool, InjectedToolArg\n",
    "from langchain_core.callbacks import CallbackManagerForToolRun, AsyncCallbackManagerForToolRun\n",
    "from langchain_openai import ChatOpenAI\n",
    "from langchain_core.output_parsers import PydanticToolsParser\n",
    "\n",
    "OPENAI_KEY = os.getenv('OPENAI_API_KEY')"
   ]
  },
  {
   "cell_type": "code",
   "execution_count": 37,
   "metadata": {},
   "outputs": [
    {
     "data": {
      "text/plain": [
       "interface(Alice=[Point3D(x=1, y=2, z=3), Point3D(x=4, y=5, z=6)], Bob=[Point3D(x=7, y=8, z=9)], Chad=[Point3D(x=10, y=11, z=12)], Dave=[Point3D(x=13, y=14, z=15)], env=<env.env object at 0x1372a1be0>)"
      ]
     },
     "execution_count": 37,
     "metadata": {},
     "output_type": "execute_result"
    }
   ],
   "source": [
    "from typing import Annotated\n",
    "import env\n",
    "import utils\n",
    "import importlib \n",
    "importlib.reload(env)\n",
    "importlib.reload(utils)\n",
    "from pathlib import Path\n",
    "\n",
    "setup_data_path = Path().resolve() / 'setup_data'\n",
    "\n",
    "envs = utils.load_envs(setup_data_path, 'Version_0')\n",
    "\n",
    "agents = ['Alice', 'Bob', 'Chad', 'Dave']\n",
    "class Point3D(BaseModel):\n",
    "    x: int = Field('X Coordinate')\n",
    "    y: int = Field('Y Coordinate')\n",
    "    z: int = Field('Z Coordinate')\n",
    "\n",
    "# Define a validator to ensure each point is a valid 3D point\n",
    "    @field_validator('x', 'y', 'z')\n",
    "    def check_coordinates(cls, v):\n",
    "        if not isinstance(v, int):\n",
    "            raise ValueError('Coordinate must be an integer')\n",
    "        return v\n",
    "\n",
    "dict_schema = {'interface' : {agent : (List[Point3D], Field(f'A path of 3D points for Agent {agent}, where the list of points is an array and each point is a dictionary.')) for agent in agents} | {'env' : (Annotated[env.env, InjectedToolArg], Field('env object'))}}\n",
    "\n",
    "Interface = create_model('interface', **dict_schema['interface'], __config__=ConfigDict(arbitrary_types_allowed=True))\n",
    "\n",
    "\n",
    "\n",
    "\n",
    "test_inp = {\n",
    "    'Alice': [{'x': 1, 'y': 2, 'z': 3}, {'x': 4, 'y': 5, 'z': 6}],\n",
    "    'Bob': [{'x': 7, 'y': 8, 'z': 9}],\n",
    "    'Chad': [{'x': 10, 'y': 11, 'z': 12}],\n",
    "    'Dave': [{'x': 13, 'y': 14, 'z': 15}],\n",
    "    'env' : envs[0],\n",
    "}\n",
    "\n",
    "Interface.validate(test_inp)"
   ]
  },
  {
   "cell_type": "code",
   "execution_count": 16,
   "metadata": {},
   "outputs": [],
   "source": [
    "class AgentsInterface(BaseTool):\n",
    "    name: str = \"AgentsInterface\"\n",
    "    description: str = \"How you instruct the agents to follow a particular path. Each agent should recieve a path according to the argument description.\"\n",
    "    args_schema: Type[BaseModel] = Interface\n",
    "    return_direct: bool = True\n",
    "        \n",
    "        \n",
    "    def _run(\n",
    "        self, **kwargs\n",
    "    ) -> str:\n",
    "        \"\"\"Use the tool.\"\"\"\n",
    "        # The \"$xtra\" prefix on a kwarg means it isn't an agent path and serves another purpose\n",
    "        # Ok i was wrong about the $xtra stuff bc it would have to go through the pydantic interface which would make it an arg for the LLM\n",
    "        # What i will do it somehow set the env value in the state, and then pass the state to the tool\n",
    "        # IDk man check this out https://langchain-ai.github.io/langgraph/how-tos/pass-run-time-values-to-tools/#define-the-tools\n",
    "        # Might not work, good luck!!\n",
    "        print(kwargs)\n",
    "        agent_paths = {k : [(p.x, p.y, p.z)for p in v] for k, v in kwargs.items()} # Converts point object to tuple\n",
    "        print(agent_paths)\n",
    "        return 'Good job!'"
   ]
  },
  {
   "cell_type": "code",
   "execution_count": 17,
   "metadata": {},
   "outputs": [],
   "source": [
    "# Toy Experiment Env\n",
    "from pathlib import Path\n",
    "import env\n",
    "import utils\n",
    "\n",
    "setup_data_path = Path().resolve() / 'setup_data'\n",
    "envs = utils.load_envs(setup_data_path, 'Version_0')"
   ]
  },
  {
   "cell_type": "code",
   "execution_count": 18,
   "metadata": {},
   "outputs": [],
   "source": [
    "llm = ChatOpenAI(model='gpt-4o-mini')\n",
    "\n",
    "tools = [AgentsInterface()]\n",
    "\n",
    "llm_with_tools = llm.bind_tools(tools)"
   ]
  },
  {
   "cell_type": "code",
   "execution_count": 43,
   "metadata": {},
   "outputs": [],
   "source": [
    "query = '''Plan paths for agents to navigate a 3D grid to reach their respective goals and avoid collision.\n",
    "You are given:\n",
    "1) a list of obstacle coordinates (x, y, z): locations of the obstacle grid cells, agents must avoid them.\n",
    "2) a list of [([name], [init], [goal]) tuples], [init] and [goal] are 3D coordinates of the initial position and goal position of agent named [name].\n",
    "3) a previous plan, if any, and why it failed. Analyze this information and re-plan a collision-free path.\n",
    "\n",
    "How to plan a <path>:\n",
    "1) Make sure each path does not touch any obstacle or another agent.\n",
    "2) Create a set of points for each agent to go from their init coordinates to their goal coordinates.\n",
    "3) Make sure the coordinates are exactly one step away from each other, in one direction. Note - you may only move in one direction at a time.\n",
    "Example of a <path>: [{'x' : 1, 'y' : 1, 'z' : 1}, {'x' : 1, 'y' : 1, 'z' : 2}, {'x' : 1, 'y' : 1, 'z' : 3},...]\n",
    "\n",
    "Output Instruction: Use the Agent Interface tool provided to output your final plan for the agents. \n",
    "\n",
    "At the current step: Grid size: 10 x 10 x 10\n",
    "Agents: [Alice, Bob, Chad, Dave]\n",
    "Obstacles: (5, 9, 10) (10, 3, 10) (4, 7, 9) (7, 6, 2) (9, 3, 9) (10, 7, 9) (5, 7, 7) (7, 3, 9) (6, 3, 10) (4, 8, 8)\n",
    "Agent Alice init: (9, 3, 2) goal: (6, 1, 3)\n",
    "Agent Bob init: (2, 6, 4) goal: (4, 3, 9)\n",
    "Agent Chad init: (1, 10, 3) goal: (3, 1, 5)\n",
    "Agent Dave init: (1, 4, 2) goal: (6, 8, 9)\n",
    "Your reasoning and plan is'''"
   ]
  },
  {
   "cell_type": "code",
   "execution_count": 44,
   "metadata": {},
   "outputs": [],
   "source": [
    "chain = llm_with_tools | PydanticToolsParser(tools = [AgentsInterface])"
   ]
  },
  {
   "cell_type": "code",
   "execution_count": 58,
   "metadata": {},
   "outputs": [
    {
     "ename": "AttributeError",
     "evalue": "'str' object has no attribute 'items'",
     "output_type": "error",
     "traceback": [
      "\u001b[0;31m---------------------------------------------------------------------------\u001b[0m",
      "\u001b[0;31mAttributeError\u001b[0m                            Traceback (most recent call last)",
      "Cell \u001b[0;32mIn[58], line 1\u001b[0m\n\u001b[0;32m----> 1\u001b[0m out \u001b[38;5;241m=\u001b[39m \u001b[43mllm_with_tools\u001b[49m\u001b[38;5;241;43m.\u001b[39;49m\u001b[43minvoke\u001b[49m\u001b[43m(\u001b[49m\u001b[43mquery\u001b[49m\u001b[43m,\u001b[49m\u001b[43m \u001b[49m\u001b[38;5;241;43m*\u001b[39;49m\u001b[43m{\u001b[49m\u001b[38;5;124;43m'\u001b[39;49m\u001b[38;5;124;43menv\u001b[39;49m\u001b[38;5;124;43m'\u001b[39;49m\u001b[43m \u001b[49m\u001b[43m:\u001b[49m\u001b[43m \u001b[49m\u001b[38;5;241;43m54\u001b[39;49m\u001b[43m}\u001b[49m\u001b[43m)\u001b[49m\n",
      "File \u001b[0;32m~/opt/anaconda3/envs/agents_v_test/lib/python3.9/site-packages/langchain_core/runnables/base.py:5356\u001b[0m, in \u001b[0;36mRunnableBindingBase.invoke\u001b[0;34m(self, input, config, **kwargs)\u001b[0m\n\u001b[1;32m   5348\u001b[0m \u001b[38;5;28;01mdef\u001b[39;00m \u001b[38;5;21minvoke\u001b[39m(\n\u001b[1;32m   5349\u001b[0m     \u001b[38;5;28mself\u001b[39m,\n\u001b[1;32m   5350\u001b[0m     \u001b[38;5;28minput\u001b[39m: Input,\n\u001b[1;32m   5351\u001b[0m     config: Optional[RunnableConfig] \u001b[38;5;241m=\u001b[39m \u001b[38;5;28;01mNone\u001b[39;00m,\n\u001b[1;32m   5352\u001b[0m     \u001b[38;5;241m*\u001b[39m\u001b[38;5;241m*\u001b[39mkwargs: Optional[Any],\n\u001b[1;32m   5353\u001b[0m ) \u001b[38;5;241m-\u001b[39m\u001b[38;5;241m>\u001b[39m Output:\n\u001b[1;32m   5354\u001b[0m     \u001b[38;5;28;01mreturn\u001b[39;00m \u001b[38;5;28mself\u001b[39m\u001b[38;5;241m.\u001b[39mbound\u001b[38;5;241m.\u001b[39minvoke(\n\u001b[1;32m   5355\u001b[0m         \u001b[38;5;28minput\u001b[39m,\n\u001b[0;32m-> 5356\u001b[0m         \u001b[38;5;28;43mself\u001b[39;49m\u001b[38;5;241;43m.\u001b[39;49m\u001b[43m_merge_configs\u001b[49m\u001b[43m(\u001b[49m\u001b[43mconfig\u001b[49m\u001b[43m)\u001b[49m,\n\u001b[1;32m   5357\u001b[0m         \u001b[38;5;241m*\u001b[39m\u001b[38;5;241m*\u001b[39m{\u001b[38;5;241m*\u001b[39m\u001b[38;5;241m*\u001b[39m\u001b[38;5;28mself\u001b[39m\u001b[38;5;241m.\u001b[39mkwargs, \u001b[38;5;241m*\u001b[39m\u001b[38;5;241m*\u001b[39mkwargs},\n\u001b[1;32m   5358\u001b[0m     )\n",
      "File \u001b[0;32m~/opt/anaconda3/envs/agents_v_test/lib/python3.9/site-packages/langchain_core/runnables/base.py:5345\u001b[0m, in \u001b[0;36mRunnableBindingBase._merge_configs\u001b[0;34m(self, *configs)\u001b[0m\n\u001b[1;32m   5344\u001b[0m \u001b[38;5;28;01mdef\u001b[39;00m \u001b[38;5;21m_merge_configs\u001b[39m(\u001b[38;5;28mself\u001b[39m, \u001b[38;5;241m*\u001b[39mconfigs: Optional[RunnableConfig]) \u001b[38;5;241m-\u001b[39m\u001b[38;5;241m>\u001b[39m RunnableConfig:\n\u001b[0;32m-> 5345\u001b[0m     config \u001b[38;5;241m=\u001b[39m \u001b[43mmerge_configs\u001b[49m\u001b[43m(\u001b[49m\u001b[38;5;28;43mself\u001b[39;49m\u001b[38;5;241;43m.\u001b[39;49m\u001b[43mconfig\u001b[49m\u001b[43m,\u001b[49m\u001b[43m \u001b[49m\u001b[38;5;241;43m*\u001b[39;49m\u001b[43mconfigs\u001b[49m\u001b[43m)\u001b[49m\n\u001b[1;32m   5346\u001b[0m     \u001b[38;5;28;01mreturn\u001b[39;00m merge_configs(config, \u001b[38;5;241m*\u001b[39m(f(config) \u001b[38;5;28;01mfor\u001b[39;00m f \u001b[38;5;129;01min\u001b[39;00m \u001b[38;5;28mself\u001b[39m\u001b[38;5;241m.\u001b[39mconfig_factories))\n",
      "File \u001b[0;32m~/opt/anaconda3/envs/agents_v_test/lib/python3.9/site-packages/langchain_core/runnables/config.py:307\u001b[0m, in \u001b[0;36mmerge_configs\u001b[0;34m(*configs)\u001b[0m\n\u001b[1;32m    304\u001b[0m base: RunnableConfig \u001b[38;5;241m=\u001b[39m {}\n\u001b[1;32m    305\u001b[0m \u001b[38;5;66;03m# Even though the keys aren't literals, this is correct\u001b[39;00m\n\u001b[1;32m    306\u001b[0m \u001b[38;5;66;03m# because both dicts are the same type\u001b[39;00m\n\u001b[0;32m--> 307\u001b[0m \u001b[38;5;28;01mfor\u001b[39;00m config \u001b[38;5;129;01min\u001b[39;00m (ensure_config(c) \u001b[38;5;28;01mfor\u001b[39;00m c \u001b[38;5;129;01min\u001b[39;00m configs \u001b[38;5;28;01mif\u001b[39;00m c \u001b[38;5;129;01mis\u001b[39;00m \u001b[38;5;129;01mnot\u001b[39;00m \u001b[38;5;28;01mNone\u001b[39;00m):\n\u001b[1;32m    308\u001b[0m     \u001b[38;5;28;01mfor\u001b[39;00m key \u001b[38;5;129;01min\u001b[39;00m config:\n\u001b[1;32m    309\u001b[0m         \u001b[38;5;28;01mif\u001b[39;00m key \u001b[38;5;241m==\u001b[39m \u001b[38;5;124m\"\u001b[39m\u001b[38;5;124mmetadata\u001b[39m\u001b[38;5;124m\"\u001b[39m:\n",
      "File \u001b[0;32m~/opt/anaconda3/envs/agents_v_test/lib/python3.9/site-packages/langchain_core/runnables/config.py:307\u001b[0m, in \u001b[0;36m<genexpr>\u001b[0;34m(.0)\u001b[0m\n\u001b[1;32m    304\u001b[0m base: RunnableConfig \u001b[38;5;241m=\u001b[39m {}\n\u001b[1;32m    305\u001b[0m \u001b[38;5;66;03m# Even though the keys aren't literals, this is correct\u001b[39;00m\n\u001b[1;32m    306\u001b[0m \u001b[38;5;66;03m# because both dicts are the same type\u001b[39;00m\n\u001b[0;32m--> 307\u001b[0m \u001b[38;5;28;01mfor\u001b[39;00m config \u001b[38;5;129;01min\u001b[39;00m (\u001b[43mensure_config\u001b[49m\u001b[43m(\u001b[49m\u001b[43mc\u001b[49m\u001b[43m)\u001b[49m \u001b[38;5;28;01mfor\u001b[39;00m c \u001b[38;5;129;01min\u001b[39;00m configs \u001b[38;5;28;01mif\u001b[39;00m c \u001b[38;5;129;01mis\u001b[39;00m \u001b[38;5;129;01mnot\u001b[39;00m \u001b[38;5;28;01mNone\u001b[39;00m):\n\u001b[1;32m    308\u001b[0m     \u001b[38;5;28;01mfor\u001b[39;00m key \u001b[38;5;129;01min\u001b[39;00m config:\n\u001b[1;32m    309\u001b[0m         \u001b[38;5;28;01mif\u001b[39;00m key \u001b[38;5;241m==\u001b[39m \u001b[38;5;124m\"\u001b[39m\u001b[38;5;124mmetadata\u001b[39m\u001b[38;5;124m\"\u001b[39m:\n",
      "File \u001b[0;32m~/opt/anaconda3/envs/agents_v_test/lib/python3.9/site-packages/langchain_core/runnables/config.py:183\u001b[0m, in \u001b[0;36mensure_config\u001b[0;34m(config)\u001b[0m\n\u001b[1;32m    167\u001b[0m     empty\u001b[38;5;241m.\u001b[39mupdate(\n\u001b[1;32m    168\u001b[0m         cast(\n\u001b[1;32m    169\u001b[0m             RunnableConfig,\n\u001b[0;32m   (...)\u001b[0m\n\u001b[1;32m    175\u001b[0m         )\n\u001b[1;32m    176\u001b[0m     )\n\u001b[1;32m    177\u001b[0m \u001b[38;5;28;01mif\u001b[39;00m config \u001b[38;5;129;01mis\u001b[39;00m \u001b[38;5;129;01mnot\u001b[39;00m \u001b[38;5;28;01mNone\u001b[39;00m:\n\u001b[1;32m    178\u001b[0m     empty\u001b[38;5;241m.\u001b[39mupdate(\n\u001b[1;32m    179\u001b[0m         cast(\n\u001b[1;32m    180\u001b[0m             RunnableConfig,\n\u001b[1;32m    181\u001b[0m             {\n\u001b[1;32m    182\u001b[0m                 k: v\u001b[38;5;241m.\u001b[39mcopy() \u001b[38;5;28;01mif\u001b[39;00m k \u001b[38;5;129;01min\u001b[39;00m COPIABLE_KEYS \u001b[38;5;28;01melse\u001b[39;00m v  \u001b[38;5;66;03m# type: ignore[attr-defined]\u001b[39;00m\n\u001b[0;32m--> 183\u001b[0m                 \u001b[38;5;28;01mfor\u001b[39;00m k, v \u001b[38;5;129;01min\u001b[39;00m \u001b[43mconfig\u001b[49m\u001b[38;5;241;43m.\u001b[39;49m\u001b[43mitems\u001b[49m()\n\u001b[1;32m    184\u001b[0m                 \u001b[38;5;28;01mif\u001b[39;00m v \u001b[38;5;129;01mis\u001b[39;00m \u001b[38;5;129;01mnot\u001b[39;00m \u001b[38;5;28;01mNone\u001b[39;00m \u001b[38;5;129;01mand\u001b[39;00m k \u001b[38;5;129;01min\u001b[39;00m CONFIG_KEYS\n\u001b[1;32m    185\u001b[0m             },\n\u001b[1;32m    186\u001b[0m         )\n\u001b[1;32m    187\u001b[0m     )\n\u001b[1;32m    188\u001b[0m \u001b[38;5;28;01mif\u001b[39;00m config \u001b[38;5;129;01mis\u001b[39;00m \u001b[38;5;129;01mnot\u001b[39;00m \u001b[38;5;28;01mNone\u001b[39;00m:\n\u001b[1;32m    189\u001b[0m     \u001b[38;5;28;01mfor\u001b[39;00m k, v \u001b[38;5;129;01min\u001b[39;00m config\u001b[38;5;241m.\u001b[39mitems():\n",
      "\u001b[0;31mAttributeError\u001b[0m: 'str' object has no attribute 'items'"
     ]
    }
   ],
   "source": [
    "out = llm_with_tools.invoke(query)"
   ]
  },
  {
   "cell_type": "code",
   "execution_count": 48,
   "metadata": {},
   "outputs": [
    {
     "data": {
      "text/plain": [
       "__main__.AgentsInterface"
      ]
     },
     "execution_count": 48,
     "metadata": {},
     "output_type": "execute_result"
    }
   ],
   "source": [
    "PydanticToolsParser(tools = [AgentsInterface]).invoke(out)[0]"
   ]
  },
  {
   "cell_type": "code",
   "execution_count": 75,
   "metadata": {},
   "outputs": [
    {
     "name": "stdout",
     "output_type": "stream",
     "text": [
      "{'Alice': [{'x': 9, 'y': 3, 'z': 2}, {'x': 8, 'y': 3, 'z': 2}, {'x': 7, 'y': 3, 'z': 2}, {'x': 6, 'y': 3, 'z': 2}, {'x': 6, 'y': 2, 'z': 2}, {'x': 6, 'y': 1, 'z': 2}, {'x': 6, 'y': 1, 'z': 3}], 'Bob': [{'x': 2, 'y': 6, 'z': 4}, {'x': 3, 'y': 6, 'z': 4}, {'x': 4, 'y': 6, 'z': 4}, {'x': 4, 'y': 5, 'z': 4}, {'x': 4, 'y': 4, 'z': 4}, {'x': 4, 'y': 3, 'z': 4}, {'x': 4, 'y': 3, 'z': 5}, {'x': 4, 'y': 3, 'z': 6}, {'x': 4, 'y': 3, 'z': 7}, {'x': 4, 'y': 3, 'z': 8}, {'x': 4, 'y': 3, 'z': 9}], 'Chad': [{'x': 1, 'y': 10, 'z': 3}, {'x': 1, 'y': 9, 'z': 3}, {'x': 1, 'y': 8, 'z': 3}, {'x': 1, 'y': 7, 'z': 3}, {'x': 1, 'y': 6, 'z': 3}, {'x': 2, 'y': 5, 'z': 3}, {'x': 3, 'y': 5, 'z': 3}, {'x': 3, 'y': 4, 'z': 3}, {'x': 3, 'y': 3, 'z': 3}, {'x': 3, 'y': 2, 'z': 3}, {'x': 3, 'y': 1, 'z': 3}, {'x': 3, 'y': 1, 'z': 4}, {'x': 3, 'y': 1, 'z': 5}], 'Dave': [{'x': 1, 'y': 4, 'z': 2}, {'x': 1, 'y': 5, 'z': 2}, {'x': 1, 'y': 6, 'z': 2}, {'x': 1, 'y': 7, 'z': 2}, {'x': 1, 'y': 8, 'z': 2}, {'x': 1, 'y': 9, 'z': 2}, {'x': 2, 'y': 9, 'z': 2}, {'x': 3, 'y': 9, 'z': 2}, {'x': 4, 'y': 9, 'z': 2}, {'x': 5, 'y': 9, 'z': 2}, {'x': 6, 'y': 9, 'z': 2}, {'x': 6, 'y': 9, 'z': 3}, {'x': 6, 'y': 9, 'z': 4}, {'x': 6, 'y': 9, 'z': 5}, {'x': 6, 'y': 9, 'z': 6}, {'x': 6, 'y': 9, 'z': 7}, {'x': 6, 'y': 9, 'z': 8}, {'x': 6, 'y': 8, 'z': 8}, {'x': 6, 'y': 8, 'z': 9}], '$xtra_env': 'env43'}\n",
      "{'Alice': [Point3D(x=9, y=3, z=2), Point3D(x=8, y=3, z=2), Point3D(x=7, y=3, z=2), Point3D(x=6, y=3, z=2), Point3D(x=6, y=2, z=2), Point3D(x=6, y=1, z=2), Point3D(x=6, y=1, z=3)], 'Bob': [Point3D(x=2, y=6, z=4), Point3D(x=3, y=6, z=4), Point3D(x=4, y=6, z=4), Point3D(x=4, y=5, z=4), Point3D(x=4, y=4, z=4), Point3D(x=4, y=3, z=4), Point3D(x=4, y=3, z=5), Point3D(x=4, y=3, z=6), Point3D(x=4, y=3, z=7), Point3D(x=4, y=3, z=8), Point3D(x=4, y=3, z=9)], 'Chad': [Point3D(x=1, y=10, z=3), Point3D(x=1, y=9, z=3), Point3D(x=1, y=8, z=3), Point3D(x=1, y=7, z=3), Point3D(x=1, y=6, z=3), Point3D(x=2, y=5, z=3), Point3D(x=3, y=5, z=3), Point3D(x=3, y=4, z=3), Point3D(x=3, y=3, z=3), Point3D(x=3, y=2, z=3), Point3D(x=3, y=1, z=3), Point3D(x=3, y=1, z=4), Point3D(x=3, y=1, z=5)], 'Dave': [Point3D(x=1, y=4, z=2), Point3D(x=1, y=5, z=2), Point3D(x=1, y=6, z=2), Point3D(x=1, y=7, z=2), Point3D(x=1, y=8, z=2), Point3D(x=1, y=9, z=2), Point3D(x=2, y=9, z=2), Point3D(x=3, y=9, z=2), Point3D(x=4, y=9, z=2), Point3D(x=5, y=9, z=2), Point3D(x=6, y=9, z=2), Point3D(x=6, y=9, z=3), Point3D(x=6, y=9, z=4), Point3D(x=6, y=9, z=5), Point3D(x=6, y=9, z=6), Point3D(x=6, y=9, z=7), Point3D(x=6, y=9, z=8), Point3D(x=6, y=8, z=8), Point3D(x=6, y=8, z=9)]}\n",
      "{'Alice': [(9, 3, 2), (8, 3, 2), (7, 3, 2), (6, 3, 2), (6, 2, 2), (6, 1, 2), (6, 1, 3)], 'Bob': [(2, 6, 4), (3, 6, 4), (4, 6, 4), (4, 5, 4), (4, 4, 4), (4, 3, 4), (4, 3, 5), (4, 3, 6), (4, 3, 7), (4, 3, 8), (4, 3, 9)], 'Chad': [(1, 10, 3), (1, 9, 3), (1, 8, 3), (1, 7, 3), (1, 6, 3), (2, 5, 3), (3, 5, 3), (3, 4, 3), (3, 3, 3), (3, 2, 3), (3, 1, 3), (3, 1, 4), (3, 1, 5)], 'Dave': [(1, 4, 2), (1, 5, 2), (1, 6, 2), (1, 7, 2), (1, 8, 2), (1, 9, 2), (2, 9, 2), (3, 9, 2), (4, 9, 2), (5, 9, 2), (6, 9, 2), (6, 9, 3), (6, 9, 4), (6, 9, 5), (6, 9, 6), (6, 9, 7), (6, 9, 8), (6, 8, 8), (6, 8, 9)]}\n",
      "Env: no_env\n"
     ]
    },
    {
     "data": {
      "text/plain": [
       "ToolMessage(content='Good job!', name='AgentsInterface', tool_call_id='call_dRc0I7kvjxdoDwcaMXFU12Bf')"
      ]
     },
     "execution_count": 75,
     "metadata": {},
     "output_type": "execute_result"
    }
   ],
   "source": [
    "call = out.tool_calls[0]\n",
    "\n",
    "call['args'].update({'$xtra_env' : 'env43'})\n",
    "print(call['args'])\n",
    "AgentsInterface().invoke(call)"
   ]
  },
  {
   "cell_type": "code",
   "execution_count": 16,
   "metadata": {},
   "outputs": [],
   "source": [
    "from langchain_core.messages import AIMessage\n",
    "t = AIMessage(content='To plan collision-free paths for the agents, we will follow these steps:\\n\\n1. **Identify the Obstacles and Agent Positions**: \\n   - Obstacles: (5, 9, 10), (10, 3, 10), (4, 7, 9), (7, 6, 2), (9, 3, 9), (10, 7, 9), (5, 7, 7), (7, 3, 9), (6, 3, 10), (4, 8, 8)\\n   - Agent Positions:\\n     - Alice: Initial (9, 3, 2) → Goal (6, 1, 3)\\n     - Bob: Initial (2, 6, 4) → Goal (4, 3, 9)\\n     - Chad: Initial (1, 10, 3) → Goal (3, 1, 5)\\n     - Dave: Initial (1, 4, 2) → Goal (6, 8, 9)\\n\\n2. **Analyze Possible Paths**:\\n   - Each agent must navigate from their initial position to their goal while avoiding obstacles and other agents.\\n   - The path must be made up of discrete steps, moving one unit in one direction at a time.\\n\\n3. **Plan the Paths**:\\n   - **Alice**: Needs to move from (9, 3, 2) to (6, 1, 3). A possible path can be:\\n     - Move to (8, 3, 2)\\n     - Move to (7, 3, 2)\\n     - Move to (6, 3, 2)\\n     - Move to (6, 2, 2)\\n     - Move to (6, 1, 2)\\n     - Move to (6, 1, 3)\\n   - **Bob**: Needs to move from (2, 6, 4) to (4, 3, 9). A possible path can be:\\n     - Move to (2, 6, 5)\\n     - Move to (2, 6, 6)\\n     - Move to (2, 6, 7)\\n     - Move to (2, 6, 8)\\n     - Move to (2, 6, 9)\\n     - Move to (2, 5, 9)\\n     - Move to (3, 5, 9)\\n     - Move to (4, 5, 9)\\n     - Move to (4, 4, 9)\\n     - Move to (4, 3, 9)\\n   - **Chad**: Needs to move from (1, 10, 3) to (3, 1, 5). A possible path can be:\\n     - Move to (1, 9, 3)\\n     - Move to (1, 8, 3)\\n     - Move to (1, 7, 3)\\n     - Move to (1, 6, 3)\\n     - Move to (1, 5, 3)\\n     - Move to (1, 4, 3)\\n     - Move to (1, 3, 3)\\n     - Move to (2, 3, 3)\\n     - Move to (2, 2, 3)\\n     - Move to (3, 2, 3)\\n     - Move to (3, 1, 3)\\n     - Move to (3, 1, 4)\\n     - Move to (3, 1, 5)\\n   - **Dave**: Needs to move from (1, 4, 2) to (6, 8, 9). A possible path can be:\\n     - Move to (1, 4, 3)\\n     - Move to (1, 4, 4)\\n     - Move to (1, 4, 5)\\n     - Move to (1, 4, 6)\\n     - Move to (1, 4, 7)\\n     - Move to (1, 4, 8)\\n     - Move to (1, 4, 9)\\n     - Move to (2, 4, 9)\\n     - Move to (3, 4, 9)\\n     - Move to (4, 4, 9)\\n     - Move to (5, 4, 9)\\n     - Move to (6, 4, 9)\\n     - Move to (6, 5, 9)\\n     - Move to (6, 6, 9)\\n     - Move to (6, 7, 9)\\n     - Move to (6, 8, 9)\\n\\n4. **Check for Collisions**:\\n   - Ensure that the paths do not intersect with each other or pass through the obstacle coordinates.\\n\\n5. **Final Paths**:\\nNow we will structure these paths according to the Agent Interface tool:\\n\\n```json\\n{\\n  \"Alice\": [\\n    {\"x\": 9, \"y\": 3, \"z\": 2},\\n    {\"x\": 8, \"y\": 3, \"z\": 2},\\n    {\"x\": 7, \"y\": 3, \"z\": 2},\\n    {\"x\": 6, \"y\": 3, \"z\": 2},\\n    {\"x\": 6, \"y\": 2, \"z\": 2},\\n    {\"x\": 6, \"y\": 1, \"z\": 2},\\n    {\"x\": 6, \"y\": 1, \"z\": 3}\\n  ],\\n  \"Bob\": [\\n    {\"x\": 2, \"y\": 6, \"z\": 4},\\n    {\"x\": 2, \"y\": 6, \"z\": 5},\\n    {\"x\": 2, \"y\": 6, \"z\": 6},\\n    {\"x\": 2, \"y\": 6, \"z\": 7},\\n    {\"x\": 2, \"y\": 6, \"z\": 8},\\n    {\"x\": 2, \"y\": 6, \"z\": 9},\\n    {\"x\": 2, \"y\": 5, \"z\": 9},\\n    {\"x\": 3, \"y\": 5, \"z\": 9},\\n    {\"x\": 4, \"y\": 5, \"z\": 9},\\n    {\"x\": 4, \"y\": 4, \"z\": 9},\\n    {\"x\": 4, \"y\": 3, \"z\": 9}\\n  ],\\n  \"Chad\": [\\n    {\"x\": 1, \"y\": 10, \"z\": 3},\\n    {\"x\": 1, \"y\": 9, \"z\": 3},\\n    {\"x\": 1, \"y\": 8, \"z\": 3},\\n    {\"x\": 1, \"y\": 7, \"z\": 3},\\n    {\"x\": 1, \"y\": 6, \"z\": 3},\\n    {\"x\": 1, \"y\": 5, \"z\": 3},\\n    {\"x\": 1, \"y\": 4, \"z\": 3},\\n    {\"x\": 1, \"y\": 3, \"z\": 3},\\n    {\"x\": 2, \"y\": 3, \"z\": 3},\\n    {\"x\": 2, \"y\": 2, \"z\": 3},\\n    {\"x\": 3, \"y\": 2, \"z\": 3},\\n    {\"x\": 3, \"y\": 1, \"z\": 3},\\n    {\"x\": 3, \"y\": 1, \"z\": 4},\\n    {\"x\": 3, \"y\": 1, \"z\": 5}\\n  ],\\n  \"Dave\": [\\n    {\"x\": 1, \"y\": 4, \"z\": 2},\\n    {\"x\": 1, \"y\": 4, \"z\": 3},\\n    {\"x\": 1, \"y\": 4, \"z\": 4},\\n    {\"x\": 1, \"y\": 4, \"z\": 5},\\n    {\"x\": 1, \"y\": 4, \"z\": 6},\\n    {\"x\": 1, \"y\": 4, \"z\": 7},\\n    {\"x\": 1, \"y\": 4, \"z\": 8},\\n    {\"x\": 2, \"y\": 4, \"z\": 9},\\n    {\"x\": 3, \"y\": 4, \"z\": 9},\\n    {\"x\": 4, \"y\": 4, \"z\": 9},\\n    {\"x\": 5, \"y\": 4, \"z\": 9},\\n    {\"x\": 6, \"y\": 4, \"z\": 9},\\n    {\"x\": 6, \"y\": 5, \"z\": 9},\\n    {\"x\": 6, \"y\": 6, \"z\": 9},\\n    {\"x\": 6, \"y\": 7, \"z\": 9},\\n    {\"x\": 6, \"y\": 8, \"z\": 9}\\n  ]\\n}\\n```\\n\\nNow I\\'ll pass this path information to the Agents Interface tool.', additional_kwargs={'tool_calls': [{'id': 'call_E3DQgIeJHJZvedYn2WOIiagi', 'function': {'arguments': '{\"Alice\":[{\"x\":9,\"y\":3,\"z\":2},{\"x\":8,\"y\":3,\"z\":2},{\"x\":7,\"y\":3,\"z\":2},{\"x\":6,\"y\":3,\"z\":2},{\"x\":6,\"y\":2,\"z\":2},{\"x\":6,\"y\":1,\"z\":2},{\"x\":6,\"y\":1,\"z\":3}],\"Bob\":[{\"x\":2,\"y\":6,\"z\":4},{\"x\":2,\"y\":6,\"z\":5},{\"x\":2,\"y\":6,\"z\":6},{\"x\":2,\"y\":6,\"z\":7},{\"x\":2,\"y\":6,\"z\":8},{\"x\":2,\"y\":6,\"z\":9},{\"x\":2,\"y\":5,\"z\":9},{\"x\":3,\"y\":5,\"z\":9},{\"x\":4,\"y\":5,\"z\":9},{\"x\":4,\"y\":4,\"z\":9},{\"x\":4,\"y\":3,\"z\":9}],\"Chad\":[{\"x\":1,\"y\":10,\"z\":3},{\"x\":1,\"y\":9,\"z\":3},{\"x\":1,\"y\":8,\"z\":3},{\"x\":1,\"y\":7,\"z\":3},{\"x\":1,\"y\":6,\"z\":3},{\"x\":1,\"y\":5,\"z\":3},{\"x\":1,\"y\":4,\"z\":3},{\"x\":1,\"y\":3,\"z\":3},{\"x\":2,\"y\":3,\"z\":3},{\"x\":2,\"y\":2,\"z\":3},{\"x\":3,\"y\":2,\"z\":3},{\"x\":3,\"y\":1,\"z\":3},{\"x\":3,\"y\":1,\"z\":4},{\"x\":3,\"y\":1,\"z\":5}],\"Dave\":[{\"x\":1,\"y\":4,\"z\":2},{\"x\":1,\"y\":4,\"z\":3},{\"x\":1,\"y\":4,\"z\":4},{\"x\":1,\"y\":4,\"z\":5},{\"x\":1,\"y\":4,\"z\":6},{\"x\":1,\"y\":4,\"z\":7},{\"x\":1,\"y\":4,\"z\":8},{\"x\":2,\"y\":4,\"z\":9},{\"x\":3,\"y\":4,\"z\":9},{\"x\":4,\"y\":4,\"z\":9},{\"x\":5,\"y\":4,\"z\":9},{\"x\":6,\"y\":4,\"z\":9},{\"x\":6,\"y\":5,\"z\":9},{\"x\":6,\"y\":6,\"z\":9},{\"x\":6,\"y\":7,\"z\":9},{\"x\":6,\"y\":8,\"z\":9}]}', 'name': 'AgentsInterface'}, 'type': 'function'}], 'refusal': None}, response_metadata={'token_usage': {'completion_tokens': 2626, 'prompt_tokens': 841, 'total_tokens': 3467, 'completion_tokens_details': {'audio_tokens': 0, 'reasoning_tokens': 0, 'accepted_prediction_tokens': 0, 'rejected_prediction_tokens': 0}, 'prompt_tokens_details': {'audio_tokens': 0, 'cached_tokens': 0}}, 'model_name': 'gpt-4o-mini-2024-07-18', 'system_fingerprint': 'fp_9b78b61c52', 'finish_reason': 'tool_calls', 'logprobs': None}, id='run-37363938-2cd1-4c56-b7bc-d4e1a571729c-0', tool_calls=[{'name': 'AgentsInterface', 'args': {'Alice': [{'x': 9, 'y': 3, 'z': 2}, {'x': 8, 'y': 3, 'z': 2}, {'x': 7, 'y': 3, 'z': 2}, {'x': 6, 'y': 3, 'z': 2}, {'x': 6, 'y': 2, 'z': 2}, {'x': 6, 'y': 1, 'z': 2}, {'x': 6, 'y': 1, 'z': 3}], 'Bob': [{'x': 2, 'y': 6, 'z': 4}, {'x': 2, 'y': 6, 'z': 5}, {'x': 2, 'y': 6, 'z': 6}, {'x': 2, 'y': 6, 'z': 7}, {'x': 2, 'y': 6, 'z': 8}, {'x': 2, 'y': 6, 'z': 9}, {'x': 2, 'y': 5, 'z': 9}, {'x': 3, 'y': 5, 'z': 9}, {'x': 4, 'y': 5, 'z': 9}, {'x': 4, 'y': 4, 'z': 9}, {'x': 4, 'y': 3, 'z': 9}], 'Chad': [{'x': 1, 'y': 10, 'z': 3}, {'x': 1, 'y': 9, 'z': 3}, {'x': 1, 'y': 8, 'z': 3}, {'x': 1, 'y': 7, 'z': 3}, {'x': 1, 'y': 6, 'z': 3}, {'x': 1, 'y': 5, 'z': 3}, {'x': 1, 'y': 4, 'z': 3}, {'x': 1, 'y': 3, 'z': 3}, {'x': 2, 'y': 3, 'z': 3}, {'x': 2, 'y': 2, 'z': 3}, {'x': 3, 'y': 2, 'z': 3}, {'x': 3, 'y': 1, 'z': 3}, {'x': 3, 'y': 1, 'z': 4}, {'x': 3, 'y': 1, 'z': 5}], 'Dave': [{'x': 1, 'y': 4, 'z': 2}, {'x': 1, 'y': 4, 'z': 3}, {'x': 1, 'y': 4, 'z': 4}, {'x': 1, 'y': 4, 'z': 5}, {'x': 1, 'y': 4, 'z': 6}, {'x': 1, 'y': 4, 'z': 7}, {'x': 1, 'y': 4, 'z': 8}, {'x': 2, 'y': 4, 'z': 9}, {'x': 3, 'y': 4, 'z': 9}, {'x': 4, 'y': 4, 'z': 9}, {'x': 5, 'y': 4, 'z': 9}, {'x': 6, 'y': 4, 'z': 9}, {'x': 6, 'y': 5, 'z': 9}, {'x': 6, 'y': 6, 'z': 9}, {'x': 6, 'y': 7, 'z': 9}, {'x': 6, 'y': 8, 'z': 9}]}, 'id': 'call_E3DQgIeJHJZvedYn2WOIiagi', 'type': 'tool_call'}], usage_metadata={'input_tokens': 841, 'output_tokens': 2626, 'total_tokens': 3467, 'input_token_details': {'audio': 0, 'cache_read': 0}, 'output_token_details': {'audio': 0, 'reasoning': 0}})"
   ]
  },
  {
   "cell_type": "code",
   "execution_count": 26,
   "metadata": {},
   "outputs": [
    {
     "data": {
      "text/plain": [
       "{'default': 'A path of 3D points for Agent Bob, where the list of points is an array and each point is a dictionary.',\n",
       " 'items': {'$ref': '#/$defs/Point3D'},\n",
       " 'title': 'Bob',\n",
       " 'type': 'array'}"
      ]
     },
     "execution_count": 26,
     "metadata": {},
     "output_type": "execute_result"
    }
   ],
   "source": [
    "env = AgentsInterface()"
   ]
  },
  {
   "cell_type": "code",
   "execution_count": 4,
   "metadata": {},
   "outputs": [],
   "source": [
    "client = openai.OpenAI()"
   ]
  },
  {
   "cell_type": "code",
   "execution_count": 8,
   "metadata": {},
   "outputs": [],
   "source": [
    "result = client.chat.completions.create(\n",
    "    model=\"gpt-4o-mini\",\n",
    "    messages=[\n",
    "        {\"role\": \"system\", \"content\": \"You are a helpful assistant.\"},\n",
    "        {\n",
    "            \"role\": \"user\",\n",
    "            \"content\": \"Write a series of haikus about recursion in programming.\"\n",
    "        }\n",
    "    ]\n",
    ")"
   ]
  },
  {
   "cell_type": "code",
   "execution_count": 13,
   "metadata": {},
   "outputs": [
    {
     "name": "stdout",
     "output_type": "stream",
     "text": [
      "100\n"
     ]
    }
   ],
   "source": [
    "print(result.usage.completion_tokens)"
   ]
  }
 ],
 "metadata": {
  "kernelspec": {
   "display_name": "agents_v_test",
   "language": "python",
   "name": "python3"
  },
  "language_info": {
   "codemirror_mode": {
    "name": "ipython",
    "version": 3
   },
   "file_extension": ".py",
   "mimetype": "text/x-python",
   "name": "python",
   "nbconvert_exporter": "python",
   "pygments_lexer": "ipython3",
   "version": "3.9.20"
  }
 },
 "nbformat": 4,
 "nbformat_minor": 2
}
