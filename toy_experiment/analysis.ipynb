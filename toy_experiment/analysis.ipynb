{
 "cells": [
  {
   "cell_type": "code",
   "execution_count": 3,
   "metadata": {},
   "outputs": [],
   "source": [
    "import pandas as pd\n",
    "from pathlib import Path\n",
    "import json\n",
    "\n",
    "setup_data_path = Path().resolve() / 'setup_data'"
   ]
  },
  {
   "cell_type": "code",
   "execution_count": null,
   "metadata": {},
   "outputs": [],
   "source": [
    "MODELS = ['gpt-4o-mini', 'gpt-4o'] # gpt-3.5-turbo-16k-0613\n",
    "EDITIONS = [f'FINAL_{i}' for i in range(4)]\n",
    "GRAPH_TYPE = 'central_agent_1'\n",
    "TRIAL_NAME = 'final_run_1'\n",
    "PROMPTING_METHOD = 'default'\n",
    "\n",
    "save_paths = {edit : {model : Path().resolve() / 'logs' / edit / GRAPH_TYPE / model / PROMPTING_METHOD / TRIAL_NAME / 'results.json' for model in MODELS} for edit in EDITIONS}"
   ]
  },
  {
   "cell_type": "code",
   "execution_count": 57,
   "metadata": {},
   "outputs": [],
   "source": [
    "\n",
    "\n",
    "def process_json_to_df(file_path, model):\n",
    "    with open(file_path) as f:\n",
    "        dict_data = json.load(f)\n",
    "    \n",
    "    data = [[val['end_node']['success'], val['end_node']['inference_count']] for i, val in enumerate(dict_data)]\n",
    "    df = pd.DataFrame(data=data, columns=[f'{model}_success', f'{model}_inference_count'])\n",
    "    return df\n",
    "\n",
    "\n",
    "results_dfs = []\n",
    "\n",
    "for edit in list(save_paths.keys()):\n",
    "    dfs = []\n",
    "    for model in save_paths[edit]:\n",
    "        dfs.append(process_json_to_df(save_paths[edit][model], model))\n",
    "\n",
    "    df = pd.concat(dfs, axis=1)\n",
    "    results_dfs.append(df)"
   ]
  },
  {
   "cell_type": "code",
   "execution_count": 61,
   "metadata": {},
   "outputs": [],
   "source": [
    "results_dfs[3].to_clipboard()"
   ]
  },
  {
   "cell_type": "code",
   "execution_count": null,
   "metadata": {},
   "outputs": [],
   "source": [
    "data = []"
   ]
  },
  {
   "cell_type": "code",
   "execution_count": 84,
   "metadata": {},
   "outputs": [],
   "source": [
    "data = []\n",
    "for i in range(4):\n",
    "    data.append([f'FINAL_{i}', results_dfs[i]['gpt-4o-mini_success'].value_counts(True)[True], results_dfs[i]['gpt-4o_success'].value_counts(True)[True]])\n",
    "\n",
    "success_df = pd.DataFrame(data = data, columns=['ENV', 'gpt-4o-mini', 'gpt-4o'])\n",
    "success_df.to_clipboard()"
   ]
  },
  {
   "cell_type": "code",
   "execution_count": 85,
   "metadata": {},
   "outputs": [],
   "source": [
    "data = []\n",
    "for i in range(4):\n",
    "    data.append([f'FINAL_{i}', results_dfs[i]['gpt-4o-mini_inference_count'].mean(), results_dfs[i]['gpt-4o_inference_count'].mean()])\n",
    "\n",
    "avg_df = pd.DataFrame(data = data, columns=['ENV', 'gpt-4o-mini', 'gpt-4o'])\n",
    "avg_df.to_clipboard()"
   ]
  },
  {
   "cell_type": "code",
   "execution_count": 77,
   "metadata": {},
   "outputs": [
    {
     "name": "stdout",
     "output_type": "stream",
     "text": [
      "GPT-4o-mini: 8.666666666666666\n",
      "GPT-4o: 3.1333333333333333\n"
     ]
    }
   ],
   "source": [
    "df = 3\n",
    "print(f\"GPT-4o-mini: {results_dfs[df]['gpt-4o-mini_inference_count'].mean()}\")\n",
    "print(f\"GPT-4o: {results_dfs[df]['gpt-4o_inference_count'].mean()}\")"
   ]
  }
 ],
 "metadata": {
  "kernelspec": {
   "display_name": "agents_v_test",
   "language": "python",
   "name": "python3"
  },
  "language_info": {
   "codemirror_mode": {
    "name": "ipython",
    "version": 3
   },
   "file_extension": ".py",
   "mimetype": "text/x-python",
   "name": "python",
   "nbconvert_exporter": "python",
   "pygments_lexer": "ipython3",
   "version": "3.9.20"
  }
 },
 "nbformat": 4,
 "nbformat_minor": 2
}
