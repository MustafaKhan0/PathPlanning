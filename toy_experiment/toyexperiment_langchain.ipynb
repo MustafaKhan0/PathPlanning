{
 "cells": [
  {
   "cell_type": "markdown",
   "metadata": {},
   "source": [
    "# Imports\n",
    "\n",
    "## Toy Experiment Imports"
   ]
  },
  {
   "cell_type": "code",
   "execution_count": 199,
   "metadata": {},
   "outputs": [],
   "source": [
    "from pathlib import Path\n",
    "import importlib\n",
    "import env\n",
    "import utils\n",
    "importlib.reload(env)\n",
    "importlib.reload(utils)\n",
    "\n",
    "setup_data_path = Path().resolve() / 'setup_data'"
   ]
  },
  {
   "cell_type": "markdown",
   "metadata": {},
   "source": [
    "## Langchain Imports"
   ]
  },
  {
   "cell_type": "code",
   "execution_count": 200,
   "metadata": {},
   "outputs": [],
   "source": [
    "from dotenv import load_dotenv\n",
    "load_dotenv()\n",
    "import os\n",
    "import openai\n",
    "from typing import List, Type, Optional, Annotated, Sequence, Literal, TypedDict\n",
    "from typing_extensions import TypedDict\n",
    "from pydantic import BaseModel, create_model, field_validator, Field\n",
    "from langchain_core.tools import BaseTool\n",
    "from langchain_core.callbacks import CallbackManagerForToolRun, AsyncCallbackManagerForToolRun\n",
    "from langchain_openai import ChatOpenAI\n",
    "from langchain_core.output_parsers import PydanticToolsParser\n",
    "from langchain_core.prompts import ChatPromptTemplate, MessagesPlaceholder\n",
    "from langchain_core.messages import AIMessage, ToolMessage, BaseMessage, HumanMessage\n",
    "from langgraph.prebuilt import ToolNode, InjectedState # Good docs / source code https://github.com/langchain-ai/langgraph/blob/main/libs/langgraph/langworkflow/prebuilt/tool_node.py\n",
    "from langgraph.graph import StateGraph, START, END\n",
    "import operator\n",
    "import functools\n",
    "from copy import deepcopy\n",
    "\n",
    "OPENAI_KEY = os.getenv('OPENAI_API_KEY')"
   ]
  },
  {
   "cell_type": "markdown",
   "metadata": {},
   "source": [
    "# Definitions\n",
    "## Toy Experiment Definitions"
   ]
  },
  {
   "cell_type": "code",
   "execution_count": 201,
   "metadata": {},
   "outputs": [],
   "source": [
    "envs = utils.load_envs(setup_data_path, 'Version_0')"
   ]
  },
  {
   "cell_type": "code",
   "execution_count": 202,
   "metadata": {},
   "outputs": [],
   "source": [
    "RUN_ENV = envs[0]"
   ]
  },
  {
   "cell_type": "markdown",
   "metadata": {},
   "source": [
    "## Lang-graph Definitions"
   ]
  },
  {
   "cell_type": "code",
   "execution_count": 203,
   "metadata": {},
   "outputs": [],
   "source": [
    "# Tool Definition\n",
    "\n",
    "class AgentsInterface(BaseTool):\n",
    "    name: str = \"AgentsInterface\"\n",
    "    description: str = \"How you instruct the agents to follow a particular path. All agents should recieve a path according to the argument description in this singular tool call.\"\n",
    "    args_schema: Type[BaseModel] = RUN_ENV.generate_env_tool() # ALTER THIS\n",
    "    return_direct: bool = True\n",
    "        \n",
    "        \n",
    "    def _run(\n",
    "        self, **kwargs\n",
    "    ) -> str:\n",
    "        \"\"\"Use the tool.\"\"\"\n",
    "        # The \"$xtra\" prefix on a kwarg means it isn't an agent path and serves another purpose\n",
    "        # Ok i was wrong about the $xtra stuff bc it would have to go through the pydantic interface which would make it an arg for the LLM\n",
    "        # What i will do it somehow set the env value in the state, and then pass the state to the tool\n",
    "        # IDk man check this out https://langchain-ai.github.io/langgraph/how-tos/pass-run-time-values-to-tools/#define-the-tools\n",
    "        # Might not work, good luck!!\n",
    "        print(kwargs)\n",
    "\n",
    "        agent_paths = {k : [(p.x, p.y, p.z)for p in v] for k, v in kwargs.items() if k != 'env'} # Converts point object to tuple\n",
    "        print(agent_paths)\n",
    "        print(kwargs.get('env', 'noenv'))\n",
    "        run_env : env.env = kwargs.get('env')\n",
    "        plan, feedback, has_feedback = run_env.tool_call_backend(agent_paths)\n",
    "        print(f'Plan: {plan}')\n",
    "        print(f'Feedback: {feedback}')\n",
    "        print(f'Has Feedback: {has_feedback}')\n",
    "\n",
    "        \n",
    "        return run_env.prompt(method = 'default', feedback_plan = feedback)[2] if has_feedback else 'Success!'"
   ]
  },
  {
   "cell_type": "code",
   "execution_count": 204,
   "metadata": {},
   "outputs": [],
   "source": [
    "def create_agent(llm, tools, system_message: str):\n",
    "    \"\"\"Create an agent.\"\"\"\n",
    "    prompt = ChatPromptTemplate.from_messages(\n",
    "        [\n",
    "            (\n",
    "                \"system\",\n",
    "                \"Plan paths for agents to navigate a 3D grid to reach their respective goals and avoid collision.\"\n",
    "                \" You are given:\"\n",
    "                \" 1) a list of obstacle coordinates (x, y, z): locations of the obstacle grid cells, agents must avoid them.\"\n",
    "                \" 2) a list of [([name], [init], [goal]) tuples], [init] and [goal] are 3D coordinates of the initial position and goal position of agent named [name].\"\n",
    "                \" 3) a previous plan, if any, and why it failed. Analyze this information and re-plan a collision-free path.\"\n",
    "                \" How to plan a <path>:\"\n",
    "                \" 1) Make sure each path does not touch any obstacle or another agent.\"\n",
    "                \" 2) Create a set of points for each agent to go from their init coordinates to their goal coordinates.\"\n",
    "                \" 3) Make sure the coordinates are exactly one step away from each other, in one direction. Note - you may only move in one direction at a time.\"\n",
    "                \" Example of a <path>: [{{'x' : 1, 'y' : 1, 'z' : 1}}, {{'x' : 1, 'y' : 1, 'z' : 2}}, {{'x' : 1, 'y' : 1, 'z' : 3}},...]\"\n",
    "                \" Output Instruction: Use the Agent Interface tool provided to output your final plan for the agents. \\n{system_message}\"\n",
    "            ),\n",
    "            MessagesPlaceholder(variable_name=\"messages\"),\n",
    "        ]\n",
    "    )\n",
    "    prompt = prompt.partial(system_message=system_message)\n",
    "    prompt = prompt.partial(tool_names=\", \".join([tool.name for tool in tools]))\n",
    "    return prompt | llm.bind_tools(tools)"
   ]
  },
  {
   "cell_type": "code",
   "execution_count": 205,
   "metadata": {},
   "outputs": [],
   "source": [
    "class State(TypedDict):\n",
    "    # Messages have the type \"list\". The `add_messages` function\n",
    "    # in the annotation defines how this state key should be updated\n",
    "    # (in this case, it appends messages to the list, rather than overwriting them)\n",
    "    messages: Annotated[Sequence[BaseMessage], operator.add]\n",
    "    sender: str\n",
    "    inference_count: int\n",
    "    env : env.env"
   ]
  },
  {
   "cell_type": "code",
   "execution_count": 206,
   "metadata": {},
   "outputs": [],
   "source": [
    "def agent_node(state, agent, name):\n",
    "    result = agent.invoke(state)\n",
    "    # We convert the agent output into a format that is suitable to append to the global state\n",
    "    if isinstance(result, ToolMessage):\n",
    "        pass\n",
    "    else:\n",
    "        result = AIMessage(**result.dict(exclude={\"type\", \"name\"}), sender=name)\n",
    "    return {\n",
    "        \"messages\": [result],\n",
    "        # Since we have a strict workflow, we can\n",
    "        # track the sender so we know who to pass to next.\n",
    "        \"sender\": name,\n",
    "    }\n",
    "\n",
    "\n",
    "def no_tool(state):\n",
    "    msg = HumanMessage(content='No tool call found - make sure the tool interfaces are used as properly described.')\n",
    "    return {\n",
    "        'messages' : [msg],\n",
    "        'sender' : 'human'\n",
    "    }\n",
    "\n",
    "\n",
    "def gen_tool_node(state, tools):\n",
    "        result = []\n",
    "        tools_by_name = {tool.name: tool for tool in tools}\n",
    "        for tool_call in state[\"messages\"][-1].tool_calls:\n",
    "            tool = tools_by_name[tool_call[\"name\"]]\n",
    "            call = deepcopy(tool_call)\n",
    "            if tool_call['name'] == 'AgentsInterface':\n",
    "                call['args']['env'] = state['env']\n",
    "            observation = tool.invoke(call[\"args\"])\n",
    "            result.append(ToolMessage(content=observation, sender=call['name'], tool_call_id=call[\"id\"]))\n",
    "            print('appended1')\n",
    "        return {\"messages\": result}"
   ]
  },
  {
   "cell_type": "code",
   "execution_count": 207,
   "metadata": {},
   "outputs": [],
   "source": [
    "# Define Agents & Nodes\n",
    "\n",
    "llm = ChatOpenAI(model='gpt-4o-mini')\n",
    "\n",
    "\n",
    "tools = [AgentsInterface()]\n",
    "tool_node = functools.partial(gen_tool_node, tools=tools)\n",
    "\n",
    "# Main agent & node\n",
    "agent1 = create_agent(\n",
    "    llm, \n",
    "    tools,\n",
    "    system_message=\"\"\n",
    ")\n",
    "\n",
    "agent1_node = functools.partial(agent_node, agent=agent1, name='agent1')\n",
    "\n",
    "# Tool node\n"
   ]
  },
  {
   "cell_type": "code",
   "execution_count": 229,
   "metadata": {},
   "outputs": [
    {
     "data": {
      "text/plain": [
       "'gpt-4o-mini'"
      ]
     },
     "execution_count": 229,
     "metadata": {},
     "output_type": "execute_result"
    }
   ],
   "source": []
  },
  {
   "cell_type": "code",
   "execution_count": 208,
   "metadata": {},
   "outputs": [],
   "source": [
    "def router(state) -> Literal['call_tool', '__end__', 'continue']:\n",
    "    messages = state['messages']\n",
    "    last_message = messages[-1]\n",
    "\n",
    "    if isinstance(last_message, AIMessage) and last_message.tool_calls:\n",
    "        return 'call_tool'\n",
    "    # You're normally supposed to add some condition to end and otherwise continue, but this is just for testing\n",
    "    elif last_message.sender == 'AgentsInterface' and 'success' in last_message.content.lower():\n",
    "        print('ending_code')\n",
    "        return '__end__'\n",
    "    else:\n",
    "        return 'continue'"
   ]
  },
  {
   "cell_type": "code",
   "execution_count": 215,
   "metadata": {},
   "outputs": [],
   "source": [
    "from langgraph.checkpoint.memory import MemorySaver\n",
    "\n",
    "checkpointer = MemorySaver()\n",
    "\n",
    "workflow = StateGraph(State)\n",
    "\n",
    "workflow.add_node('agent1', agent1_node)\n",
    "workflow.add_node('call_tool', tool_node)\n",
    "workflow.add_node('no_tool', no_tool)\n",
    "\n",
    "workflow.add_conditional_edges(\n",
    "    'agent1',\n",
    "    router,\n",
    "    {'continue' : 'no_tool','call_tool' : 'call_tool'}\n",
    ")\n",
    "\n",
    "workflow.add_edge('no_tool', 'agent1')\n",
    "\n",
    "workflow.add_conditional_edges(\n",
    "    'call_tool',\n",
    "    router,\n",
    "    {'continue' : 'agent1', '__end__' : END}\n",
    ")\n",
    "\n",
    "workflow.add_edge(START, 'agent1')\n",
    "\n",
    "graph = workflow.compile(checkpointer=checkpointer)"
   ]
  },
  {
   "cell_type": "code",
   "execution_count": 234,
   "metadata": {},
   "outputs": [],
   "source": [
    "\n",
    "\n",
    "\n",
    "from PIL import Image\n",
    "import io\n",
    "\n",
    "image_bytes = graph.get_graph().draw_mermaid_png()  \n",
    "image_stream = io.BytesIO(image_bytes)\n",
    "image = Image.open(image_stream)\n",
    "image.save('output.png', 'PNG')\n",
    "image_stream.close()"
   ]
  },
  {
   "cell_type": "code",
   "execution_count": 216,
   "metadata": {},
   "outputs": [
    {
     "data": {
      "image/jpeg": "[encoded data removed]",
      "text/plain": [
       "<IPython.core.display.Image object>"
      ]
     },
     "metadata": {},
     "output_type": "display_data"
    }
   ],
   "source": [
    "from IPython.display import Image, display\n",
    "\n",
    "try:\n",
    "    display(Image(graph.get_graph(xray=True).draw_mermaid_png()))\n",
    "except Exception:\n",
    "    # This requires some extra dependencies and is optional\n",
    "    pass"
   ]
  },
  {
   "cell_type": "code",
   "execution_count": 218,
   "metadata": {},
   "outputs": [
    {
     "name": "stdout",
     "output_type": "stream",
     "text": [
      "{'agent1': {'messages': [AIMessage(content='To plan collision-free paths for the agents in a 3D grid while avoiding obstacles, we will analyze the initial and goal positions of each agent and the locations of obstacles. We will ensure that each agent\\'s path consists of valid moves that do not overlap with obstacles or with other agents’ paths.\\n\\n### Step-by-Step Analysis:\\n\\n1. **Grid Size**: 10 x 10 x 10\\n2. **Obstacles**: \\n   - (5, 9, 10)\\n   - (10, 3, 10)\\n   - (4, 7, 9)\\n   - (7, 6, 2)\\n   - (9, 3, 9)\\n   - (10, 7, 9)\\n   - (5, 7, 7)\\n   - (7, 3, 9)\\n   - (6, 3, 10)\\n   - (4, 8, 8)\\n\\n3. **Agents and Goals**:\\n   - **Agent Alice**: \\n     - Init: (9, 3, 2)\\n     - Goal: (6, 1, 3)\\n   - **Agent Bob**: \\n     - Init: (2, 6, 4)\\n     - Goal: (4, 3, 9)\\n   - **Agent Chad**: \\n     - Init: (1, 10, 3)\\n     - Goal: (3, 1, 5)\\n   - **Agent Dave**: \\n     - Init: (1, 4, 2)\\n     - Goal: (6, 8, 9)\\n\\n### Path Planning:\\n\\n**Path for Agent Alice**:\\n- Start at (9, 3, 2) and must reach (6, 1, 3). \\n- Move sequence:\\n  - (9, 3, 2) to (8, 3, 2)\\n  - (8, 3, 2) to (7, 3, 2)\\n  - (7, 3, 2) to (6, 3, 2)\\n  - (6, 3, 2) to (6, 2, 2)\\n  - (6, 2, 2) to (6, 1, 2)\\n  - (6, 1, 2) to (6, 1, 3)\\n\\n**Path for Agent Bob**:\\n- Start at (2, 6, 4) and must reach (4, 3, 9).\\n- Move sequence:\\n  - (2, 6, 4) to (2, 5, 4)\\n  - (2, 5, 4) to (2, 4, 4)\\n  - (2, 4, 4) to (2, 3, 4)\\n  - (2, 3, 4) to (3, 3, 4)\\n  - (3, 3, 4) to (4, 3, 4)\\n  - (4, 3, 4) to (4, 3, 5)\\n  - (4, 3, 5) to (4, 3, 6)\\n  - (4, 3, 6) to (4, 3, 7)\\n  - (4, 3, 7) to (4, 3, 8)\\n  - (4, 3, 8) to (4, 3, 9)\\n\\n**Path for Agent Chad**:\\n- Start at (1, 10, 3) and must reach (3, 1, 5).\\n- Move sequence:\\n  - (1, 10, 3) to (1, 9, 3)\\n  - (1, 9, 3) to (1, 8, 3)\\n  - (1, 8, 3) to (1, 7, 3)\\n  - (1, 7, 3) to (1, 6, 3)\\n  - (1, 6, 3) to (1, 5, 3)\\n  - (1, 5, 3) to (2, 5, 3)\\n  - (2, 5, 3) to (3, 5, 3)\\n  - (3, 5, 3) to (3, 4, 3)\\n  - (3, 4, 3) to (3, 3, 3)\\n  - (3, 3, 3) to (3, 2, 3)\\n  - (3, 2, 3) to (3, 1, 3)\\n  - (3, 1, 3) to (3, 1, 4)\\n  - (3, 1, 4) to (3, 1, 5)\\n\\n**Path for Agent Dave**:\\n- Start at (1, 4, 2) and must reach (6, 8, 9).\\n- Move sequence:\\n  - (1, 4, 2) to (1, 5, 2)\\n  - (1, 5, 2) to (1, 6, 2)\\n  - (1, 6, 2) to (1, 7, 2)\\n  - (1, 7, 2) to (1, 8, 2)\\n  - (1, 8, 2) to (2, 8, 2)\\n  - (2, 8, 2) to (3, 8, 2)\\n  - (3, 8, 2) to (4, 8, 2)\\n  - (4, 8, 2) to (5, 8, 2)\\n  - (5, 8, 2) to (6, 8, 2)\\n  - (6, 8, 2) to (6, 8, 3)\\n  - (6, 8, 3) to (6, 8, 4)\\n  - (6, 8, 4) to (6, 8, 5)\\n  - (6, 8, 5) to (6, 8, 6)\\n  - (6, 8, 6) to (6, 8, 7)\\n  - (6, 8, 7) to (6, 8, 8)\\n  - (6, 8, 8) to (6, 8, 9)\\n\\n### Final Paths:\\n- Alice: \\n  - [(9, 3, 2), (8, 3, 2), (7, 3, 2), (6, 3, 2), (6, 2, 2), (6, 1, 2), (6, 1, 3)]\\n- Bob: \\n  - [(2, 6, 4), (2, 5, 4), (2, 4, 4), (2, 3, 4), (3, 3, 4), (4, 3, 4), (4, 3, 5), (4, 3, 6), (4, 3, 7), (4, 3, 8), (4, 3, 9)]\\n- Chad: \\n  - [(1, 10, 3), (1, 9, 3), (1, 8, 3), (1, 7, 3), (1, 6, 3), (1, 5, 3), (2, 5, 3), (3, 5, 3), (3, 4, 3), (3, 3, 3), (3, 2, 3), (3, 1, 3), (3, 1, 4), (3, 1, 5)]\\n- Dave: \\n  - [(1, 4, 2), (1, 5, 2), (1, 6, 2), (1, 7, 2), (1, 8, 2), (2, 8, 2), (3, 8, 2), (4, 8, 2), (5, 8, 2), (6, 8, 2), (6, 8, 3), (6, 8, 4), (6, 8, 5), (6, 8, 6), (6, 8, 7), (6, 8, 8), (6, 8, 9)]\\n\\nNow, I will output these paths for each agent using the Agent Interface tool. \\n\\n### Output the final plan:\\n```json\\n{\\n  \"Alice\": [\\n    {\"x\": 9, \"y\": 3, \"z\": 2},\\n    {\"x\": 8, \"y\": 3, \"z\": 2},\\n    {\"x\": 7, \"y\": 3, \"z\": 2},\\n    {\"x\": 6, \"y\": 3, \"z\": 2},\\n    {\"x\": 6, \"y\": 2, \"z\": 2},\\n    {\"x\": 6, \"y\": 1, \"z\": 2},\\n    {\"x\": 6, \"y\": 1, \"z\": 3}\\n  ],\\n  \"Bob\": [\\n    {\"x\": 2, \"y\": 6, \"z\": 4},\\n    {\"x\": 2, \"y\": 5, \"z\": 4},\\n    {\"x\": 2, \"y\": 4, \"z\": 4},\\n    {\"x\": 2, \"y\": 3, \"z\": 4},\\n    {\"x\": 3, \"y\": 3, \"z\": 4},\\n    {\"x\": 4, \"y\": 3, \"z\": 4},\\n    {\"x\": 4, \"y\": 3, \"z\": 5},\\n    {\"x\": 4, \"y\": 3, \"z\": 6},\\n    {\"x\": 4, \"y\": 3, \"z\": 7},\\n    {\"x\": 4, \"y\": 3, \"z\": 8},\\n    {\"x\": 4, \"y\": 3, \"z\": 9}\\n  ],\\n  \"Chad\": [\\n    {\"x\": 1, \"y\": 10, \"z\": 3},\\n    {\"x\": 1, \"y\": 9, \"z\": 3},\\n    {\"x\": 1, \"y\": 8, \"z\": 3},\\n    {\"x\": 1, \"y\": 7, \"z\": 3},\\n    {\"x\": 1, \"y\": 6, \"z\": 3},\\n    {\"x\": 1, \"y\": 5, \"z\": 3},\\n    {\"x\": 2, \"y\": 5, \"z\": 3},\\n    {\"x\": 3, \"y\": 5, \"z\": 3},\\n    {\"x\": 3, \"y\": 4, \"z\": 3},\\n    {\"x\": 3, \"y\": 3, \"z\": 3},\\n    {\"x\": 3, \"y\": 2, \"z\": 3},\\n    {\"x\": 3, \"y\": 1, \"z\": 3},\\n    {\"x\": 3, \"y\": 1, \"z\": 4},\\n    {\"x\": 3, \"y\": 1, \"z\": 5}\\n  ],\\n  \"Dave\": [\\n    {\"x\": 1, \"y\": 4, \"z\": 2},\\n    {\"x\": 1, \"y\": 5, \"z\": 2},\\n    {\"x\": 1, \"y\": 6, \"z\": 2},\\n    {\"x\": 1, \"y\": 7, \"z\": 2},\\n    {\"x\": 1, \"y\": 8, \"z\": 2},\\n    {\"x\": 2, \"y\": 8, \"z\": 2},\\n    {\"x\": 3, \"y\": 8, \"z\": 2},\\n    {\"x\": 4, \"y\": 8, \"z\": 2},\\n    {\"x\": 5, \"y\": 8, \"z\": 2},\\n    {\"x\": 6, \"y\": 8, \"z\": 2},\\n    {\"x\": 6, \"y\": 8, \"z\": 3},\\n    {\"x\": 6, \"y\": 8, \"z\": 4},\\n    {\"x\": 6, \"y\": 8, \"z\": 5},\\n    {\"x\": 6, \"y\": 8, \"z\": 6},\\n    {\"x\": 6, \"y\": 8, \"z\": 7},\\n    {\"x\": 6, \"y\": 8, \"z\": 8},\\n    {\"x\": 6, \"y\": 8, \"z\": 9}\\n  ]\\n}\\n```', additional_kwargs={'refusal': None}, response_metadata={'token_usage': {'completion_tokens': 2893, 'prompt_tokens': 840, 'total_tokens': 3733, 'completion_tokens_details': {'audio_tokens': 0, 'reasoning_tokens': 0, 'accepted_prediction_tokens': 0, 'rejected_prediction_tokens': 0}, 'prompt_tokens_details': {'audio_tokens': 0, 'cached_tokens': 0}}, 'model_name': 'gpt-4o-mini-2024-07-18', 'system_fingerprint': 'fp_0705bf87c0', 'finish_reason': 'stop', 'logprobs': None}, id='run-2f17158c-68d6-4a03-8c34-9560a3f8eb96-0', usage_metadata={'input_tokens': 840, 'output_tokens': 2893, 'total_tokens': 3733, 'input_token_details': {'audio': 0, 'cache_read': 0}, 'output_token_details': {'audio': 0, 'reasoning': 0}}, sender='agent1')], 'sender': 'agent1'}}\n",
      "{'no_tool': {'messages': [HumanMessage(content='No tool call found - make sure the tool interfaces are used as properly described.', additional_kwargs={}, response_metadata={})], 'sender': 'human'}}\n",
      "{'agent1': {'messages': [AIMessage(content='', additional_kwargs={'tool_calls': [{'id': 'call_63SaQna5QliPiL53bYf2dVNH', 'function': {'arguments': '{\"Alice\":[{\"x\":9,\"y\":3,\"z\":2},{\"x\":8,\"y\":3,\"z\":2},{\"x\":7,\"y\":3,\"z\":2},{\"x\":6,\"y\":3,\"z\":2},{\"x\":6,\"y\":2,\"z\":2},{\"x\":6,\"y\":1,\"z\":2},{\"x\":6,\"y\":1,\"z\":3}],\"Bob\":[{\"x\":2,\"y\":6,\"z\":4},{\"x\":2,\"y\":5,\"z\":4},{\"x\":2,\"y\":4,\"z\":4},{\"x\":2,\"y\":3,\"z\":4},{\"x\":3,\"y\":3,\"z\":4},{\"x\":4,\"y\":3,\"z\":4},{\"x\":4,\"y\":3,\"z\":5},{\"x\":4,\"y\":3,\"z\":6},{\"x\":4,\"y\":3,\"z\":7},{\"x\":4,\"y\":3,\"z\":8},{\"x\":4,\"y\":3,\"z\":9}],\"Chad\":[{\"x\":1,\"y\":10,\"z\":3},{\"x\":1,\"y\":9,\"z\":3},{\"x\":1,\"y\":8,\"z\":3},{\"x\":1,\"y\":7,\"z\":3},{\"x\":1,\"y\":6,\"z\":3},{\"x\":1,\"y\":5,\"z\":3},{\"x\":2,\"y\":5,\"z\":3},{\"x\":3,\"y\":5,\"z\":3},{\"x\":3,\"y\":4,\"z\":3},{\"x\":3,\"y\":3,\"z\":3},{\"x\":3,\"y\":2,\"z\":3},{\"x\":3,\"y\":1,\"z\":3},{\"x\":3,\"y\":1,\"z\":4},{\"x\":3,\"y\":1,\"z\":5}],\"Dave\":[{\"x\":1,\"y\":4,\"z\":2},{\"x\":1,\"y\":5,\"z\":2},{\"x\":1,\"y\":6,\"z\":2},{\"x\":1,\"y\":7,\"z\":2},{\"x\":1,\"y\":8,\"z\":2},{\"x\":2,\"y\":8,\"z\":2},{\"x\":3,\"y\":8,\"z\":2},{\"x\":4,\"y\":8,\"z\":2},{\"x\":5,\"y\":8,\"z\":2},{\"x\":6,\"y\":8,\"z\":2},{\"x\":6,\"y\":8,\"z\":3},{\"x\":6,\"y\":8,\"z\":4},{\"x\":6,\"y\":8,\"z\":5},{\"x\":6,\"y\":8,\"z\":6},{\"x\":6,\"y\":8,\"z\":7},{\"x\":6,\"y\":8,\"z\":8},{\"x\":6,\"y\":8,\"z\":9}]}', 'name': 'AgentsInterface'}, 'type': 'function'}], 'refusal': None}, response_metadata={'token_usage': {'completion_tokens': 617, 'prompt_tokens': 3756, 'total_tokens': 4373, 'completion_tokens_details': {'audio_tokens': 0, 'reasoning_tokens': 0, 'accepted_prediction_tokens': 0, 'rejected_prediction_tokens': 0}, 'prompt_tokens_details': {'audio_tokens': 0, 'cached_tokens': 3584}}, 'model_name': 'gpt-4o-mini-2024-07-18', 'system_fingerprint': 'fp_0705bf87c0', 'finish_reason': 'tool_calls', 'logprobs': None}, id='run-82a1bbb6-71d9-463b-a7d3-e8abc61323f6-0', tool_calls=[{'name': 'AgentsInterface', 'args': {'Alice': [{'x': 9, 'y': 3, 'z': 2}, {'x': 8, 'y': 3, 'z': 2}, {'x': 7, 'y': 3, 'z': 2}, {'x': 6, 'y': 3, 'z': 2}, {'x': 6, 'y': 2, 'z': 2}, {'x': 6, 'y': 1, 'z': 2}, {'x': 6, 'y': 1, 'z': 3}], 'Bob': [{'x': 2, 'y': 6, 'z': 4}, {'x': 2, 'y': 5, 'z': 4}, {'x': 2, 'y': 4, 'z': 4}, {'x': 2, 'y': 3, 'z': 4}, {'x': 3, 'y': 3, 'z': 4}, {'x': 4, 'y': 3, 'z': 4}, {'x': 4, 'y': 3, 'z': 5}, {'x': 4, 'y': 3, 'z': 6}, {'x': 4, 'y': 3, 'z': 7}, {'x': 4, 'y': 3, 'z': 8}, {'x': 4, 'y': 3, 'z': 9}], 'Chad': [{'x': 1, 'y': 10, 'z': 3}, {'x': 1, 'y': 9, 'z': 3}, {'x': 1, 'y': 8, 'z': 3}, {'x': 1, 'y': 7, 'z': 3}, {'x': 1, 'y': 6, 'z': 3}, {'x': 1, 'y': 5, 'z': 3}, {'x': 2, 'y': 5, 'z': 3}, {'x': 3, 'y': 5, 'z': 3}, {'x': 3, 'y': 4, 'z': 3}, {'x': 3, 'y': 3, 'z': 3}, {'x': 3, 'y': 2, 'z': 3}, {'x': 3, 'y': 1, 'z': 3}, {'x': 3, 'y': 1, 'z': 4}, {'x': 3, 'y': 1, 'z': 5}], 'Dave': [{'x': 1, 'y': 4, 'z': 2}, {'x': 1, 'y': 5, 'z': 2}, {'x': 1, 'y': 6, 'z': 2}, {'x': 1, 'y': 7, 'z': 2}, {'x': 1, 'y': 8, 'z': 2}, {'x': 2, 'y': 8, 'z': 2}, {'x': 3, 'y': 8, 'z': 2}, {'x': 4, 'y': 8, 'z': 2}, {'x': 5, 'y': 8, 'z': 2}, {'x': 6, 'y': 8, 'z': 2}, {'x': 6, 'y': 8, 'z': 3}, {'x': 6, 'y': 8, 'z': 4}, {'x': 6, 'y': 8, 'z': 5}, {'x': 6, 'y': 8, 'z': 6}, {'x': 6, 'y': 8, 'z': 7}, {'x': 6, 'y': 8, 'z': 8}, {'x': 6, 'y': 8, 'z': 9}]}, 'id': 'call_63SaQna5QliPiL53bYf2dVNH', 'type': 'tool_call'}], usage_metadata={'input_tokens': 3756, 'output_tokens': 617, 'total_tokens': 4373, 'input_token_details': {'audio': 0, 'cache_read': 3584}, 'output_token_details': {'audio': 0, 'reasoning': 0}}, sender='agent1')], 'sender': 'agent1'}}\n",
      "{'Alice': [Point3D(x=9, y=3, z=2), Point3D(x=8, y=3, z=2), Point3D(x=7, y=3, z=2), Point3D(x=6, y=3, z=2), Point3D(x=6, y=2, z=2), Point3D(x=6, y=1, z=2), Point3D(x=6, y=1, z=3)], 'Bob': [Point3D(x=2, y=6, z=4), Point3D(x=2, y=5, z=4), Point3D(x=2, y=4, z=4), Point3D(x=2, y=3, z=4), Point3D(x=3, y=3, z=4), Point3D(x=4, y=3, z=4), Point3D(x=4, y=3, z=5), Point3D(x=4, y=3, z=6), Point3D(x=4, y=3, z=7), Point3D(x=4, y=3, z=8), Point3D(x=4, y=3, z=9)], 'Chad': [Point3D(x=1, y=10, z=3), Point3D(x=1, y=9, z=3), Point3D(x=1, y=8, z=3), Point3D(x=1, y=7, z=3), Point3D(x=1, y=6, z=3), Point3D(x=1, y=5, z=3), Point3D(x=2, y=5, z=3), Point3D(x=3, y=5, z=3), Point3D(x=3, y=4, z=3), Point3D(x=3, y=3, z=3), Point3D(x=3, y=2, z=3), Point3D(x=3, y=1, z=3), Point3D(x=3, y=1, z=4), Point3D(x=3, y=1, z=5)], 'Dave': [Point3D(x=1, y=4, z=2), Point3D(x=1, y=5, z=2), Point3D(x=1, y=6, z=2), Point3D(x=1, y=7, z=2), Point3D(x=1, y=8, z=2), Point3D(x=2, y=8, z=2), Point3D(x=3, y=8, z=2), Point3D(x=4, y=8, z=2), Point3D(x=5, y=8, z=2), Point3D(x=6, y=8, z=2), Point3D(x=6, y=8, z=3), Point3D(x=6, y=8, z=4), Point3D(x=6, y=8, z=5), Point3D(x=6, y=8, z=6), Point3D(x=6, y=8, z=7), Point3D(x=6, y=8, z=8), Point3D(x=6, y=8, z=9)], 'env': <env.env object at 0x162d67430>}\n",
      "{'Alice': [(9, 3, 2), (8, 3, 2), (7, 3, 2), (6, 3, 2), (6, 2, 2), (6, 1, 2), (6, 1, 3)], 'Bob': [(2, 6, 4), (2, 5, 4), (2, 4, 4), (2, 3, 4), (3, 3, 4), (4, 3, 4), (4, 3, 5), (4, 3, 6), (4, 3, 7), (4, 3, 8), (4, 3, 9)], 'Chad': [(1, 10, 3), (1, 9, 3), (1, 8, 3), (1, 7, 3), (1, 6, 3), (1, 5, 3), (2, 5, 3), (3, 5, 3), (3, 4, 3), (3, 3, 3), (3, 2, 3), (3, 1, 3), (3, 1, 4), (3, 1, 5)], 'Dave': [(1, 4, 2), (1, 5, 2), (1, 6, 2), (1, 7, 2), (1, 8, 2), (2, 8, 2), (3, 8, 2), (4, 8, 2), (5, 8, 2), (6, 8, 2), (6, 8, 3), (6, 8, 4), (6, 8, 5), (6, 8, 6), (6, 8, 7), (6, 8, 8), (6, 8, 9)]}\n",
      "<env.env object at 0x162d67430>\n",
      "Plan: {'Alice': [(9, 3, 2), (8, 3, 2), (7, 3, 2), (6, 3, 2), (6, 2, 2), (6, 1, 2), (6, 1, 3)], 'Bob': [(2, 6, 4), (2, 5, 4), (2, 4, 4), (2, 3, 4), (3, 3, 4), (4, 3, 4), (4, 3, 5), (4, 3, 6), (4, 3, 7), (4, 3, 8), (4, 3, 9)], 'Chad': [(1, 10, 3), (1, 9, 3), (1, 8, 3), (1, 7, 3), (1, 6, 3), (1, 5, 3), (2, 5, 3), (3, 5, 3), (3, 4, 3), (3, 3, 3), (3, 2, 3), (3, 1, 3), (3, 1, 4), (3, 1, 5)], 'Dave': [(1, 4, 2), (1, 5, 2), (1, 6, 2), (1, 7, 2), (1, 8, 2), (2, 8, 2), (3, 8, 2), (4, 8, 2), (5, 8, 2), (6, 8, 2), (6, 8, 3), (6, 8, 4), (6, 8, 5), (6, 8, 6), (6, 8, 7), (6, 8, 8), (6, 8, 9)]}\n",
      "Feedback: {'plan': {'Alice': [(9, 3, 2), (8, 3, 2), (7, 3, 2), (6, 3, 2), (6, 2, 2), (6, 1, 2), (6, 1, 3)], 'Bob': [(2, 6, 4), (2, 5, 4), (2, 4, 4), (2, 3, 4), (3, 3, 4), (4, 3, 4), (4, 3, 5), (4, 3, 6), (4, 3, 7), (4, 3, 8), (4, 3, 9)], 'Chad': [(1, 10, 3), (1, 9, 3), (1, 8, 3), (1, 7, 3), (1, 6, 3), (1, 5, 3), (2, 5, 3), (3, 5, 3), (3, 4, 3), (3, 3, 3), (3, 2, 3), (3, 1, 3), (3, 1, 4), (3, 1, 5)], 'Dave': [(1, 4, 2), (1, 5, 2), (1, 6, 2), (1, 7, 2), (1, 8, 2), (2, 8, 2), (3, 8, 2), (4, 8, 2), (5, 8, 2), (6, 8, 2), (6, 8, 3), (6, 8, 4), (6, 8, 5), (6, 8, 6), (6, 8, 7), (6, 8, 8), (6, 8, 9)]}, 'feedback': [[], [], [], []]}\n",
      "Has Feedback: False\n",
      "appended1\n",
      "ending_code\n"
     ]
    },
    {
     "ename": "TypeError",
     "evalue": "Object of type env is not serializable",
     "output_type": "error",
     "traceback": [
      "\u001b[0;31m---------------------------------------------------------------------------\u001b[0m",
      "\u001b[0;31mTypeError\u001b[0m                                 Traceback (most recent call last)",
      "Cell \u001b[0;32mIn[218], line 9\u001b[0m\n\u001b[1;32m      7\u001b[0m events \u001b[38;5;241m=\u001b[39m graph\u001b[38;5;241m.\u001b[39mstream({\u001b[38;5;124m'\u001b[39m\u001b[38;5;124mmessages\u001b[39m\u001b[38;5;124m'\u001b[39m : [msg], \u001b[38;5;124m'\u001b[39m\u001b[38;5;124menv\u001b[39m\u001b[38;5;124m'\u001b[39m : RUN_ENV}, config)\n\u001b[1;32m      8\u001b[0m evs \u001b[38;5;241m=\u001b[39m []\n\u001b[0;32m----> 9\u001b[0m \u001b[38;5;28;01mfor\u001b[39;00m s \u001b[38;5;129;01min\u001b[39;00m events:\n\u001b[1;32m     10\u001b[0m     \u001b[38;5;28mprint\u001b[39m(s)\n\u001b[1;32m     11\u001b[0m     evs\u001b[38;5;241m.\u001b[39mappend(s)\n",
      "File \u001b[0;32m~/opt/anaconda3/envs/agents_v_test/lib/python3.9/site-packages/langgraph/pregel/__init__.py:1322\u001b[0m, in \u001b[0;36mPregel.stream\u001b[0;34m(self, input, config, stream_mode, output_keys, interrupt_before, interrupt_after, debug, subgraphs)\u001b[0m\n\u001b[1;32m   1309\u001b[0m     \u001b[38;5;28;01mwhile\u001b[39;00m loop\u001b[38;5;241m.\u001b[39mtick(\n\u001b[1;32m   1310\u001b[0m         input_keys\u001b[38;5;241m=\u001b[39m\u001b[38;5;28mself\u001b[39m\u001b[38;5;241m.\u001b[39minput_channels,\n\u001b[1;32m   1311\u001b[0m         interrupt_before\u001b[38;5;241m=\u001b[39minterrupt_before_,\n\u001b[1;32m   1312\u001b[0m         interrupt_after\u001b[38;5;241m=\u001b[39minterrupt_after_,\n\u001b[1;32m   1313\u001b[0m         manager\u001b[38;5;241m=\u001b[39mrun_manager,\n\u001b[1;32m   1314\u001b[0m     ):\n\u001b[1;32m   1315\u001b[0m         \u001b[38;5;28;01mfor\u001b[39;00m _ \u001b[38;5;129;01min\u001b[39;00m runner\u001b[38;5;241m.\u001b[39mtick(\n\u001b[1;32m   1316\u001b[0m             loop\u001b[38;5;241m.\u001b[39mtasks\u001b[38;5;241m.\u001b[39mvalues(),\n\u001b[1;32m   1317\u001b[0m             timeout\u001b[38;5;241m=\u001b[39m\u001b[38;5;28mself\u001b[39m\u001b[38;5;241m.\u001b[39mstep_timeout,\n\u001b[0;32m   (...)\u001b[0m\n\u001b[1;32m   1320\u001b[0m         ):\n\u001b[1;32m   1321\u001b[0m             \u001b[38;5;66;03m# emit output\u001b[39;00m\n\u001b[0;32m-> 1322\u001b[0m             \u001b[38;5;28;01myield from\u001b[39;00m output()\n\u001b[1;32m   1323\u001b[0m \u001b[38;5;66;03m# emit output\u001b[39;00m\n\u001b[1;32m   1324\u001b[0m \u001b[38;5;28;01myield from\u001b[39;00m output()\n",
      "File \u001b[0;32m~/opt/anaconda3/envs/agents_v_test/lib/python3.9/site-packages/langgraph/pregel/loop.py:741\u001b[0m, in \u001b[0;36mSyncPregelLoop.__exit__\u001b[0;34m(self, exc_type, exc_value, traceback)\u001b[0m\n\u001b[1;32m    734\u001b[0m \u001b[38;5;28;01mdef\u001b[39;00m \u001b[38;5;21m__exit__\u001b[39m(\n\u001b[1;32m    735\u001b[0m     \u001b[38;5;28mself\u001b[39m,\n\u001b[1;32m    736\u001b[0m     exc_type: Optional[Type[\u001b[38;5;167;01mBaseException\u001b[39;00m]],\n\u001b[0;32m   (...)\u001b[0m\n\u001b[1;32m    739\u001b[0m ) \u001b[38;5;241m-\u001b[39m\u001b[38;5;241m>\u001b[39m Optional[\u001b[38;5;28mbool\u001b[39m]:\n\u001b[1;32m    740\u001b[0m     \u001b[38;5;66;03m# unwind stack\u001b[39;00m\n\u001b[0;32m--> 741\u001b[0m     \u001b[38;5;28;01mreturn\u001b[39;00m \u001b[38;5;28;43mself\u001b[39;49m\u001b[38;5;241;43m.\u001b[39;49m\u001b[43mstack\u001b[49m\u001b[38;5;241;43m.\u001b[39;49m\u001b[38;5;21;43m__exit__\u001b[39;49m\u001b[43m(\u001b[49m\u001b[43mexc_type\u001b[49m\u001b[43m,\u001b[49m\u001b[43m \u001b[49m\u001b[43mexc_value\u001b[49m\u001b[43m,\u001b[49m\u001b[43m \u001b[49m\u001b[43mtraceback\u001b[49m\u001b[43m)\u001b[49m\n",
      "File \u001b[0;32m~/opt/anaconda3/envs/agents_v_test/lib/python3.9/contextlib.py:532\u001b[0m, in \u001b[0;36mExitStack.__exit__\u001b[0;34m(self, *exc_details)\u001b[0m\n\u001b[1;32m    528\u001b[0m \u001b[38;5;28;01mtry\u001b[39;00m:\n\u001b[1;32m    529\u001b[0m     \u001b[38;5;66;03m# bare \"raise exc_details[1]\" replaces our carefully\u001b[39;00m\n\u001b[1;32m    530\u001b[0m     \u001b[38;5;66;03m# set-up context\u001b[39;00m\n\u001b[1;32m    531\u001b[0m     fixed_ctx \u001b[38;5;241m=\u001b[39m exc_details[\u001b[38;5;241m1\u001b[39m]\u001b[38;5;241m.\u001b[39m__context__\n\u001b[0;32m--> 532\u001b[0m     \u001b[38;5;28;01mraise\u001b[39;00m exc_details[\u001b[38;5;241m1\u001b[39m]\n\u001b[1;32m    533\u001b[0m \u001b[38;5;28;01mexcept\u001b[39;00m \u001b[38;5;167;01mBaseException\u001b[39;00m:\n\u001b[1;32m    534\u001b[0m     exc_details[\u001b[38;5;241m1\u001b[39m]\u001b[38;5;241m.\u001b[39m__context__ \u001b[38;5;241m=\u001b[39m fixed_ctx\n",
      "File \u001b[0;32m~/opt/anaconda3/envs/agents_v_test/lib/python3.9/contextlib.py:517\u001b[0m, in \u001b[0;36mExitStack.__exit__\u001b[0;34m(self, *exc_details)\u001b[0m\n\u001b[1;32m    515\u001b[0m \u001b[38;5;28;01massert\u001b[39;00m is_sync\n\u001b[1;32m    516\u001b[0m \u001b[38;5;28;01mtry\u001b[39;00m:\n\u001b[0;32m--> 517\u001b[0m     \u001b[38;5;28;01mif\u001b[39;00m \u001b[43mcb\u001b[49m\u001b[43m(\u001b[49m\u001b[38;5;241;43m*\u001b[39;49m\u001b[43mexc_details\u001b[49m\u001b[43m)\u001b[49m:\n\u001b[1;32m    518\u001b[0m         suppressed_exc \u001b[38;5;241m=\u001b[39m \u001b[38;5;28;01mTrue\u001b[39;00m\n\u001b[1;32m    519\u001b[0m         pending_raise \u001b[38;5;241m=\u001b[39m \u001b[38;5;28;01mFalse\u001b[39;00m\n",
      "File \u001b[0;32m~/opt/anaconda3/envs/agents_v_test/lib/python3.9/site-packages/langgraph/pregel/executor.py:107\u001b[0m, in \u001b[0;36mBackgroundExecutor.__exit__\u001b[0;34m(self, exc_type, exc_value, traceback)\u001b[0m\n\u001b[1;32m    105\u001b[0m     \u001b[38;5;28;01mcontinue\u001b[39;00m\n\u001b[1;32m    106\u001b[0m \u001b[38;5;28;01mtry\u001b[39;00m:\n\u001b[0;32m--> 107\u001b[0m     \u001b[43mtask\u001b[49m\u001b[38;5;241;43m.\u001b[39;49m\u001b[43mresult\u001b[49m\u001b[43m(\u001b[49m\u001b[43m)\u001b[49m\n\u001b[1;32m    108\u001b[0m \u001b[38;5;28;01mexcept\u001b[39;00m concurrent\u001b[38;5;241m.\u001b[39mfutures\u001b[38;5;241m.\u001b[39mCancelledError:\n\u001b[1;32m    109\u001b[0m     \u001b[38;5;28;01mpass\u001b[39;00m\n",
      "File \u001b[0;32m~/opt/anaconda3/envs/agents_v_test/lib/python3.9/concurrent/futures/_base.py:439\u001b[0m, in \u001b[0;36mFuture.result\u001b[0;34m(self, timeout)\u001b[0m\n\u001b[1;32m    437\u001b[0m     \u001b[38;5;28;01mraise\u001b[39;00m CancelledError()\n\u001b[1;32m    438\u001b[0m \u001b[38;5;28;01melif\u001b[39;00m \u001b[38;5;28mself\u001b[39m\u001b[38;5;241m.\u001b[39m_state \u001b[38;5;241m==\u001b[39m FINISHED:\n\u001b[0;32m--> 439\u001b[0m     \u001b[38;5;28;01mreturn\u001b[39;00m \u001b[38;5;28;43mself\u001b[39;49m\u001b[38;5;241;43m.\u001b[39;49m\u001b[43m__get_result\u001b[49m\u001b[43m(\u001b[49m\u001b[43m)\u001b[49m\n\u001b[1;32m    441\u001b[0m \u001b[38;5;28mself\u001b[39m\u001b[38;5;241m.\u001b[39m_condition\u001b[38;5;241m.\u001b[39mwait(timeout)\n\u001b[1;32m    443\u001b[0m \u001b[38;5;28;01mif\u001b[39;00m \u001b[38;5;28mself\u001b[39m\u001b[38;5;241m.\u001b[39m_state \u001b[38;5;129;01min\u001b[39;00m [CANCELLED, CANCELLED_AND_NOTIFIED]:\n",
      "File \u001b[0;32m~/opt/anaconda3/envs/agents_v_test/lib/python3.9/concurrent/futures/_base.py:391\u001b[0m, in \u001b[0;36mFuture.__get_result\u001b[0;34m(self)\u001b[0m\n\u001b[1;32m    389\u001b[0m \u001b[38;5;28;01mif\u001b[39;00m \u001b[38;5;28mself\u001b[39m\u001b[38;5;241m.\u001b[39m_exception:\n\u001b[1;32m    390\u001b[0m     \u001b[38;5;28;01mtry\u001b[39;00m:\n\u001b[0;32m--> 391\u001b[0m         \u001b[38;5;28;01mraise\u001b[39;00m \u001b[38;5;28mself\u001b[39m\u001b[38;5;241m.\u001b[39m_exception\n\u001b[1;32m    392\u001b[0m     \u001b[38;5;28;01mfinally\u001b[39;00m:\n\u001b[1;32m    393\u001b[0m         \u001b[38;5;66;03m# Break a reference cycle with the exception in self._exception\u001b[39;00m\n\u001b[1;32m    394\u001b[0m         \u001b[38;5;28mself\u001b[39m \u001b[38;5;241m=\u001b[39m \u001b[38;5;28;01mNone\u001b[39;00m\n",
      "File \u001b[0;32m~/opt/anaconda3/envs/agents_v_test/lib/python3.9/site-packages/langgraph/pregel/loop.py:666\u001b[0m, in \u001b[0;36mSyncPregelLoop._checkpointer_put_after_previous\u001b[0;34m(self, prev, config, checkpoint, metadata, new_versions)\u001b[0m\n\u001b[1;32m    664\u001b[0m \u001b[38;5;28;01mtry\u001b[39;00m:\n\u001b[1;32m    665\u001b[0m     \u001b[38;5;28;01mif\u001b[39;00m prev \u001b[38;5;129;01mis\u001b[39;00m \u001b[38;5;129;01mnot\u001b[39;00m \u001b[38;5;28;01mNone\u001b[39;00m:\n\u001b[0;32m--> 666\u001b[0m         \u001b[43mprev\u001b[49m\u001b[38;5;241;43m.\u001b[39;49m\u001b[43mresult\u001b[49m\u001b[43m(\u001b[49m\u001b[43m)\u001b[49m\n\u001b[1;32m    667\u001b[0m \u001b[38;5;28;01mfinally\u001b[39;00m:\n\u001b[1;32m    668\u001b[0m     cast(BaseCheckpointSaver, \u001b[38;5;28mself\u001b[39m\u001b[38;5;241m.\u001b[39mcheckpointer)\u001b[38;5;241m.\u001b[39mput(\n\u001b[1;32m    669\u001b[0m         config, checkpoint, metadata, new_versions\n\u001b[1;32m    670\u001b[0m     )\n",
      "File \u001b[0;32m~/opt/anaconda3/envs/agents_v_test/lib/python3.9/concurrent/futures/_base.py:439\u001b[0m, in \u001b[0;36mFuture.result\u001b[0;34m(self, timeout)\u001b[0m\n\u001b[1;32m    437\u001b[0m     \u001b[38;5;28;01mraise\u001b[39;00m CancelledError()\n\u001b[1;32m    438\u001b[0m \u001b[38;5;28;01melif\u001b[39;00m \u001b[38;5;28mself\u001b[39m\u001b[38;5;241m.\u001b[39m_state \u001b[38;5;241m==\u001b[39m FINISHED:\n\u001b[0;32m--> 439\u001b[0m     \u001b[38;5;28;01mreturn\u001b[39;00m \u001b[38;5;28;43mself\u001b[39;49m\u001b[38;5;241;43m.\u001b[39;49m\u001b[43m__get_result\u001b[49m\u001b[43m(\u001b[49m\u001b[43m)\u001b[49m\n\u001b[1;32m    441\u001b[0m \u001b[38;5;28mself\u001b[39m\u001b[38;5;241m.\u001b[39m_condition\u001b[38;5;241m.\u001b[39mwait(timeout)\n\u001b[1;32m    443\u001b[0m \u001b[38;5;28;01mif\u001b[39;00m \u001b[38;5;28mself\u001b[39m\u001b[38;5;241m.\u001b[39m_state \u001b[38;5;129;01min\u001b[39;00m [CANCELLED, CANCELLED_AND_NOTIFIED]:\n",
      "File \u001b[0;32m~/opt/anaconda3/envs/agents_v_test/lib/python3.9/concurrent/futures/_base.py:391\u001b[0m, in \u001b[0;36mFuture.__get_result\u001b[0;34m(self)\u001b[0m\n\u001b[1;32m    389\u001b[0m \u001b[38;5;28;01mif\u001b[39;00m \u001b[38;5;28mself\u001b[39m\u001b[38;5;241m.\u001b[39m_exception:\n\u001b[1;32m    390\u001b[0m     \u001b[38;5;28;01mtry\u001b[39;00m:\n\u001b[0;32m--> 391\u001b[0m         \u001b[38;5;28;01mraise\u001b[39;00m \u001b[38;5;28mself\u001b[39m\u001b[38;5;241m.\u001b[39m_exception\n\u001b[1;32m    392\u001b[0m     \u001b[38;5;28;01mfinally\u001b[39;00m:\n\u001b[1;32m    393\u001b[0m         \u001b[38;5;66;03m# Break a reference cycle with the exception in self._exception\u001b[39;00m\n\u001b[1;32m    394\u001b[0m         \u001b[38;5;28mself\u001b[39m \u001b[38;5;241m=\u001b[39m \u001b[38;5;28;01mNone\u001b[39;00m\n",
      "File \u001b[0;32m~/opt/anaconda3/envs/agents_v_test/lib/python3.9/site-packages/langgraph/pregel/executor.py:70\u001b[0m, in \u001b[0;36mBackgroundExecutor.done\u001b[0;34m(self, task)\u001b[0m\n\u001b[1;32m     68\u001b[0m \u001b[38;5;28;01mdef\u001b[39;00m \u001b[38;5;21mdone\u001b[39m(\u001b[38;5;28mself\u001b[39m, task: concurrent\u001b[38;5;241m.\u001b[39mfutures\u001b[38;5;241m.\u001b[39mFuture) \u001b[38;5;241m-\u001b[39m\u001b[38;5;241m>\u001b[39m \u001b[38;5;28;01mNone\u001b[39;00m:\n\u001b[1;32m     69\u001b[0m     \u001b[38;5;28;01mtry\u001b[39;00m:\n\u001b[0;32m---> 70\u001b[0m         \u001b[43mtask\u001b[49m\u001b[38;5;241;43m.\u001b[39;49m\u001b[43mresult\u001b[49m\u001b[43m(\u001b[49m\u001b[43m)\u001b[49m\n\u001b[1;32m     71\u001b[0m     \u001b[38;5;28;01mexcept\u001b[39;00m GraphInterrupt:\n\u001b[1;32m     72\u001b[0m         \u001b[38;5;66;03m# This exception is an interruption signal, not an error\u001b[39;00m\n\u001b[1;32m     73\u001b[0m         \u001b[38;5;66;03m# so we don't want to re-raise it on exit\u001b[39;00m\n\u001b[1;32m     74\u001b[0m         \u001b[38;5;28mself\u001b[39m\u001b[38;5;241m.\u001b[39mtasks\u001b[38;5;241m.\u001b[39mpop(task)\n",
      "File \u001b[0;32m~/opt/anaconda3/envs/agents_v_test/lib/python3.9/concurrent/futures/_base.py:439\u001b[0m, in \u001b[0;36mFuture.result\u001b[0;34m(self, timeout)\u001b[0m\n\u001b[1;32m    437\u001b[0m     \u001b[38;5;28;01mraise\u001b[39;00m CancelledError()\n\u001b[1;32m    438\u001b[0m \u001b[38;5;28;01melif\u001b[39;00m \u001b[38;5;28mself\u001b[39m\u001b[38;5;241m.\u001b[39m_state \u001b[38;5;241m==\u001b[39m FINISHED:\n\u001b[0;32m--> 439\u001b[0m     \u001b[38;5;28;01mreturn\u001b[39;00m \u001b[38;5;28;43mself\u001b[39;49m\u001b[38;5;241;43m.\u001b[39;49m\u001b[43m__get_result\u001b[49m\u001b[43m(\u001b[49m\u001b[43m)\u001b[49m\n\u001b[1;32m    441\u001b[0m \u001b[38;5;28mself\u001b[39m\u001b[38;5;241m.\u001b[39m_condition\u001b[38;5;241m.\u001b[39mwait(timeout)\n\u001b[1;32m    443\u001b[0m \u001b[38;5;28;01mif\u001b[39;00m \u001b[38;5;28mself\u001b[39m\u001b[38;5;241m.\u001b[39m_state \u001b[38;5;129;01min\u001b[39;00m [CANCELLED, CANCELLED_AND_NOTIFIED]:\n",
      "File \u001b[0;32m~/opt/anaconda3/envs/agents_v_test/lib/python3.9/concurrent/futures/_base.py:391\u001b[0m, in \u001b[0;36mFuture.__get_result\u001b[0;34m(self)\u001b[0m\n\u001b[1;32m    389\u001b[0m \u001b[38;5;28;01mif\u001b[39;00m \u001b[38;5;28mself\u001b[39m\u001b[38;5;241m.\u001b[39m_exception:\n\u001b[1;32m    390\u001b[0m     \u001b[38;5;28;01mtry\u001b[39;00m:\n\u001b[0;32m--> 391\u001b[0m         \u001b[38;5;28;01mraise\u001b[39;00m \u001b[38;5;28mself\u001b[39m\u001b[38;5;241m.\u001b[39m_exception\n\u001b[1;32m    392\u001b[0m     \u001b[38;5;28;01mfinally\u001b[39;00m:\n\u001b[1;32m    393\u001b[0m         \u001b[38;5;66;03m# Break a reference cycle with the exception in self._exception\u001b[39;00m\n\u001b[1;32m    394\u001b[0m         \u001b[38;5;28mself\u001b[39m \u001b[38;5;241m=\u001b[39m \u001b[38;5;28;01mNone\u001b[39;00m\n",
      "File \u001b[0;32m~/opt/anaconda3/envs/agents_v_test/lib/python3.9/concurrent/futures/thread.py:58\u001b[0m, in \u001b[0;36m_WorkItem.run\u001b[0;34m(self)\u001b[0m\n\u001b[1;32m     55\u001b[0m     \u001b[38;5;28;01mreturn\u001b[39;00m\n\u001b[1;32m     57\u001b[0m \u001b[38;5;28;01mtry\u001b[39;00m:\n\u001b[0;32m---> 58\u001b[0m     result \u001b[38;5;241m=\u001b[39m \u001b[38;5;28;43mself\u001b[39;49m\u001b[38;5;241;43m.\u001b[39;49m\u001b[43mfn\u001b[49m\u001b[43m(\u001b[49m\u001b[38;5;241;43m*\u001b[39;49m\u001b[38;5;28;43mself\u001b[39;49m\u001b[38;5;241;43m.\u001b[39;49m\u001b[43margs\u001b[49m\u001b[43m,\u001b[49m\u001b[43m \u001b[49m\u001b[38;5;241;43m*\u001b[39;49m\u001b[38;5;241;43m*\u001b[39;49m\u001b[38;5;28;43mself\u001b[39;49m\u001b[38;5;241;43m.\u001b[39;49m\u001b[43mkwargs\u001b[49m\u001b[43m)\u001b[49m\n\u001b[1;32m     59\u001b[0m \u001b[38;5;28;01mexcept\u001b[39;00m \u001b[38;5;167;01mBaseException\u001b[39;00m \u001b[38;5;28;01mas\u001b[39;00m exc:\n\u001b[1;32m     60\u001b[0m     \u001b[38;5;28mself\u001b[39m\u001b[38;5;241m.\u001b[39mfuture\u001b[38;5;241m.\u001b[39mset_exception(exc)\n",
      "File \u001b[0;32m~/opt/anaconda3/envs/agents_v_test/lib/python3.9/site-packages/langgraph/pregel/loop.py:668\u001b[0m, in \u001b[0;36mSyncPregelLoop._checkpointer_put_after_previous\u001b[0;34m(self, prev, config, checkpoint, metadata, new_versions)\u001b[0m\n\u001b[1;32m    666\u001b[0m         prev\u001b[38;5;241m.\u001b[39mresult()\n\u001b[1;32m    667\u001b[0m \u001b[38;5;28;01mfinally\u001b[39;00m:\n\u001b[0;32m--> 668\u001b[0m     \u001b[43mcast\u001b[49m\u001b[43m(\u001b[49m\u001b[43mBaseCheckpointSaver\u001b[49m\u001b[43m,\u001b[49m\u001b[43m \u001b[49m\u001b[38;5;28;43mself\u001b[39;49m\u001b[38;5;241;43m.\u001b[39;49m\u001b[43mcheckpointer\u001b[49m\u001b[43m)\u001b[49m\u001b[38;5;241;43m.\u001b[39;49m\u001b[43mput\u001b[49m\u001b[43m(\u001b[49m\n\u001b[1;32m    669\u001b[0m \u001b[43m        \u001b[49m\u001b[43mconfig\u001b[49m\u001b[43m,\u001b[49m\u001b[43m \u001b[49m\u001b[43mcheckpoint\u001b[49m\u001b[43m,\u001b[49m\u001b[43m \u001b[49m\u001b[43mmetadata\u001b[49m\u001b[43m,\u001b[49m\u001b[43m \u001b[49m\u001b[43mnew_versions\u001b[49m\n\u001b[1;32m    670\u001b[0m \u001b[43m    \u001b[49m\u001b[43m)\u001b[49m\n",
      "File \u001b[0;32m~/opt/anaconda3/envs/agents_v_test/lib/python3.9/site-packages/langgraph/checkpoint/memory/__init__.py:330\u001b[0m, in \u001b[0;36mMemorySaver.put\u001b[0;34m(self, config, checkpoint, metadata, new_versions)\u001b[0m\n\u001b[1;32m    325\u001b[0m thread_id \u001b[38;5;241m=\u001b[39m config[\u001b[38;5;124m\"\u001b[39m\u001b[38;5;124mconfigurable\u001b[39m\u001b[38;5;124m\"\u001b[39m][\u001b[38;5;124m\"\u001b[39m\u001b[38;5;124mthread_id\u001b[39m\u001b[38;5;124m\"\u001b[39m]\n\u001b[1;32m    326\u001b[0m checkpoint_ns \u001b[38;5;241m=\u001b[39m config[\u001b[38;5;124m\"\u001b[39m\u001b[38;5;124mconfigurable\u001b[39m\u001b[38;5;124m\"\u001b[39m][\u001b[38;5;124m\"\u001b[39m\u001b[38;5;124mcheckpoint_ns\u001b[39m\u001b[38;5;124m\"\u001b[39m]\n\u001b[1;32m    327\u001b[0m \u001b[38;5;28mself\u001b[39m\u001b[38;5;241m.\u001b[39mstorage[thread_id][checkpoint_ns]\u001b[38;5;241m.\u001b[39mupdate(\n\u001b[1;32m    328\u001b[0m     {\n\u001b[1;32m    329\u001b[0m         checkpoint[\u001b[38;5;124m\"\u001b[39m\u001b[38;5;124mid\u001b[39m\u001b[38;5;124m\"\u001b[39m]: (\n\u001b[0;32m--> 330\u001b[0m             \u001b[38;5;28;43mself\u001b[39;49m\u001b[38;5;241;43m.\u001b[39;49m\u001b[43mserde\u001b[49m\u001b[38;5;241;43m.\u001b[39;49m\u001b[43mdumps_typed\u001b[49m\u001b[43m(\u001b[49m\u001b[43mc\u001b[49m\u001b[43m)\u001b[49m,\n\u001b[1;32m    331\u001b[0m             \u001b[38;5;28mself\u001b[39m\u001b[38;5;241m.\u001b[39mserde\u001b[38;5;241m.\u001b[39mdumps_typed(metadata),\n\u001b[1;32m    332\u001b[0m             config[\u001b[38;5;124m\"\u001b[39m\u001b[38;5;124mconfigurable\u001b[39m\u001b[38;5;124m\"\u001b[39m]\u001b[38;5;241m.\u001b[39mget(\u001b[38;5;124m\"\u001b[39m\u001b[38;5;124mcheckpoint_id\u001b[39m\u001b[38;5;124m\"\u001b[39m),  \u001b[38;5;66;03m# parent\u001b[39;00m\n\u001b[1;32m    333\u001b[0m         )\n\u001b[1;32m    334\u001b[0m     }\n\u001b[1;32m    335\u001b[0m )\n\u001b[1;32m    336\u001b[0m \u001b[38;5;28;01mreturn\u001b[39;00m {\n\u001b[1;32m    337\u001b[0m     \u001b[38;5;124m\"\u001b[39m\u001b[38;5;124mconfigurable\u001b[39m\u001b[38;5;124m\"\u001b[39m: {\n\u001b[1;32m    338\u001b[0m         \u001b[38;5;124m\"\u001b[39m\u001b[38;5;124mthread_id\u001b[39m\u001b[38;5;124m\"\u001b[39m: thread_id,\n\u001b[0;32m   (...)\u001b[0m\n\u001b[1;32m    341\u001b[0m     }\n\u001b[1;32m    342\u001b[0m }\n",
      "File \u001b[0;32m~/opt/anaconda3/envs/agents_v_test/lib/python3.9/site-packages/langgraph/checkpoint/serde/jsonplus.py:193\u001b[0m, in \u001b[0;36mJsonPlusSerializer.dumps_typed\u001b[0;34m(self, obj)\u001b[0m\n\u001b[1;32m    191\u001b[0m \u001b[38;5;28;01melse\u001b[39;00m:\n\u001b[1;32m    192\u001b[0m     \u001b[38;5;28;01mtry\u001b[39;00m:\n\u001b[0;32m--> 193\u001b[0m         \u001b[38;5;28;01mreturn\u001b[39;00m \u001b[38;5;124m\"\u001b[39m\u001b[38;5;124mmsgpack\u001b[39m\u001b[38;5;124m\"\u001b[39m, \u001b[43m_msgpack_enc\u001b[49m\u001b[43m(\u001b[49m\u001b[43mobj\u001b[49m\u001b[43m)\u001b[49m\n\u001b[1;32m    194\u001b[0m     \u001b[38;5;28;01mexcept\u001b[39;00m \u001b[38;5;167;01mUnicodeEncodeError\u001b[39;00m:\n\u001b[1;32m    195\u001b[0m         \u001b[38;5;28;01mreturn\u001b[39;00m \u001b[38;5;124m\"\u001b[39m\u001b[38;5;124mjson\u001b[39m\u001b[38;5;124m\"\u001b[39m, \u001b[38;5;28mself\u001b[39m\u001b[38;5;241m.\u001b[39mdumps(obj)\n",
      "File \u001b[0;32m~/opt/anaconda3/envs/agents_v_test/lib/python3.9/site-packages/langgraph/checkpoint/serde/jsonplus.py:500\u001b[0m, in \u001b[0;36m_msgpack_enc\u001b[0;34m(data)\u001b[0m\n\u001b[1;32m    498\u001b[0m     enc \u001b[38;5;241m=\u001b[39m msgpack\u001b[38;5;241m.\u001b[39mPacker(default\u001b[38;5;241m=\u001b[39m_msgpack_default)\n\u001b[1;32m    499\u001b[0m \u001b[38;5;28;01mtry\u001b[39;00m:\n\u001b[0;32m--> 500\u001b[0m     \u001b[38;5;28;01mreturn\u001b[39;00m \u001b[43menc\u001b[49m\u001b[38;5;241;43m.\u001b[39;49m\u001b[43mpack\u001b[49m\u001b[43m(\u001b[49m\u001b[43mdata\u001b[49m\u001b[43m)\u001b[49m\n\u001b[1;32m    501\u001b[0m \u001b[38;5;28;01mfinally\u001b[39;00m:\n\u001b[1;32m    502\u001b[0m     ENC_POOL\u001b[38;5;241m.\u001b[39mappend(enc)\n",
      "File \u001b[0;32mmsgpack/_packer.pyx:279\u001b[0m, in \u001b[0;36mmsgpack._cmsgpack.Packer.pack\u001b[0;34m()\u001b[0m\n",
      "File \u001b[0;32mmsgpack/_packer.pyx:276\u001b[0m, in \u001b[0;36mmsgpack._cmsgpack.Packer.pack\u001b[0;34m()\u001b[0m\n",
      "File \u001b[0;32mmsgpack/_packer.pyx:265\u001b[0m, in \u001b[0;36mmsgpack._cmsgpack.Packer._pack\u001b[0;34m()\u001b[0m\n",
      "File \u001b[0;32mmsgpack/_packer.pyx:213\u001b[0m, in \u001b[0;36mmsgpack._cmsgpack.Packer._pack_inner\u001b[0;34m()\u001b[0m\n",
      "File \u001b[0;32mmsgpack/_packer.pyx:265\u001b[0m, in \u001b[0;36mmsgpack._cmsgpack.Packer._pack\u001b[0;34m()\u001b[0m\n",
      "File \u001b[0;32mmsgpack/_packer.pyx:213\u001b[0m, in \u001b[0;36mmsgpack._cmsgpack.Packer._pack_inner\u001b[0;34m()\u001b[0m\n",
      "File \u001b[0;32mmsgpack/_packer.pyx:265\u001b[0m, in \u001b[0;36mmsgpack._cmsgpack.Packer._pack\u001b[0;34m()\u001b[0m\n",
      "File \u001b[0;32mmsgpack/_packer.pyx:213\u001b[0m, in \u001b[0;36mmsgpack._cmsgpack.Packer._pack_inner\u001b[0;34m()\u001b[0m\n",
      "File \u001b[0;32mmsgpack/_packer.pyx:267\u001b[0m, in \u001b[0;36mmsgpack._cmsgpack.Packer._pack\u001b[0;34m()\u001b[0m\n",
      "File \u001b[0;32m~/opt/anaconda3/envs/agents_v_test/lib/python3.9/site-packages/langgraph/checkpoint/serde/jsonplus.py:433\u001b[0m, in \u001b[0;36m_msgpack_default\u001b[0;34m(obj)\u001b[0m\n\u001b[1;32m    431\u001b[0m     \u001b[38;5;28;01mreturn\u001b[39;00m \u001b[38;5;28mrepr\u001b[39m(obj)\n\u001b[1;32m    432\u001b[0m \u001b[38;5;28;01melse\u001b[39;00m:\n\u001b[0;32m--> 433\u001b[0m     \u001b[38;5;28;01mraise\u001b[39;00m \u001b[38;5;167;01mTypeError\u001b[39;00m(\u001b[38;5;124mf\u001b[39m\u001b[38;5;124m\"\u001b[39m\u001b[38;5;124mObject of type \u001b[39m\u001b[38;5;132;01m{\u001b[39;00mobj\u001b[38;5;241m.\u001b[39m\u001b[38;5;18m__class__\u001b[39m\u001b[38;5;241m.\u001b[39m\u001b[38;5;18m__name__\u001b[39m\u001b[38;5;132;01m}\u001b[39;00m\u001b[38;5;124m is not serializable\u001b[39m\u001b[38;5;124m\"\u001b[39m)\n",
      "\u001b[0;31mTypeError\u001b[0m: Object of type env is not serializable"
     ]
    }
   ],
   "source": [
    "msg = HumanMessage(\n",
    "    content=RUN_ENV.prompt(method='default')[1],\n",
    ")\n",
    "config = {'configurable' : {'thread_id' : '1', 'recursion_limit' : 5}}\n",
    "\n",
    "\n",
    "events = graph.stream({'messages' : [msg], 'env' : RUN_ENV}, config)\n",
    "evs = []\n",
    "for s in events:\n",
    "    print(s)\n",
    "    evs.append(s)"
   ]
  },
  {
   "cell_type": "code",
   "execution_count": 235,
   "metadata": {},
   "outputs": [
    {
     "data": {
      "text/plain": [
       "{'lc': 1,\n",
       " 'type': 'constructor',\n",
       " 'id': ['langchain', 'schema', 'messages', 'HumanMessage'],\n",
       " 'kwargs': {'content': 'At the current step: Grid size: 10 x 10 x 10\\nObstacles: (5, 9, 10) (10, 3, 10) (4, 7, 9) (7, 6, 2) (9, 3, 9) (10, 7, 9) (5, 7, 7) (7, 3, 9) (6, 3, 10) (4, 8, 8)\\nAgent Alice init: (9, 3, 2) goal: (6, 1, 3)\\nAgent Bob init: (2, 6, 4) goal: (4, 3, 9)\\nAgent Chad init: (1, 10, 3) goal: (3, 1, 5)\\nAgent Dave init: (1, 4, 2) goal: (6, 8, 9)\\nYour reasoning and plan is',\n",
       "  'type': 'human'}}"
      ]
     },
     "execution_count": 235,
     "metadata": {},
     "output_type": "execute_result"
    }
   ],
   "source": [
    "msg.to_json()"
   ]
  },
  {
   "cell_type": "code",
   "execution_count": 223,
   "metadata": {},
   "outputs": [
    {
     "ename": "TypeError",
     "evalue": "'generator' object is not callable",
     "output_type": "error",
     "traceback": [
      "\u001b[0;31m---------------------------------------------------------------------------\u001b[0m",
      "\u001b[0;31mTypeError\u001b[0m                                 Traceback (most recent call last)",
      "Cell \u001b[0;32mIn[223], line 1\u001b[0m\n\u001b[0;32m----> 1\u001b[0m \u001b[38;5;28;01mfor\u001b[39;00m i \u001b[38;5;129;01min\u001b[39;00m \u001b[43mgraph\u001b[49m\u001b[38;5;241;43m.\u001b[39;49m\u001b[43mget_state_history\u001b[49m\u001b[43m(\u001b[49m\u001b[43mconfig\u001b[49m\u001b[43m)\u001b[49m\u001b[43m(\u001b[49m\u001b[43m)\u001b[49m:\n\u001b[1;32m      2\u001b[0m     \u001b[38;5;28mprint\u001b[39m(i)\n",
      "\u001b[0;31mTypeError\u001b[0m: 'generator' object is not callable"
     ]
    }
   ],
   "source": []
  },
  {
   "cell_type": "code",
   "execution_count": 228,
   "metadata": {},
   "outputs": [
    {
     "data": {
      "application/vnd.plotly.v1+json": {
       "config": {
        "plotlyServerURL": "https://plot.ly"
       },
       "data": [
        {
         "alphahull": 1,
         "color": "rgba(25,25,25,0.3)",
         "flatshading": true,
         "lighting": {
          "diffuse": 0.1,
          "roughness": 0.5,
          "specular": 2
         },
         "type": "mesh3d",
         "x": [
          4.5,
          4.5,
          5.5,
          5.5,
          4.5,
          4.5,
          5.5,
          5.5
         ],
         "y": [
          8.5,
          8.5,
          8.5,
          8.5,
          9.5,
          9.5,
          9.5,
          9.5
         ],
         "z": [
          9.5,
          10.5,
          9.5,
          10.5,
          9.5,
          10.5,
          9.5,
          10.5
         ]
        },
        {
         "alphahull": 1,
         "color": "rgba(25,25,25,0.3)",
         "flatshading": true,
         "lighting": {
          "diffuse": 0.1,
          "roughness": 0.5,
          "specular": 2
         },
         "type": "mesh3d",
         "x": [
          9.5,
          9.5,
          10.5,
          10.5,
          9.5,
          9.5,
          10.5,
          10.5
         ],
         "y": [
          2.5,
          2.5,
          2.5,
          2.5,
          3.5,
          3.5,
          3.5,
          3.5
         ],
         "z": [
          9.5,
          10.5,
          9.5,
          10.5,
          9.5,
          10.5,
          9.5,
          10.5
         ]
        },
        {
         "alphahull": 1,
         "color": "rgba(25,25,25,0.3)",
         "flatshading": true,
         "lighting": {
          "diffuse": 0.1,
          "roughness": 0.5,
          "specular": 2
         },
         "type": "mesh3d",
         "x": [
          3.5,
          3.5,
          4.5,
          4.5,
          3.5,
          3.5,
          4.5,
          4.5
         ],
         "y": [
          6.5,
          6.5,
          6.5,
          6.5,
          7.5,
          7.5,
          7.5,
          7.5
         ],
         "z": [
          8.5,
          9.5,
          8.5,
          9.5,
          8.5,
          9.5,
          8.5,
          9.5
         ]
        },
        {
         "alphahull": 1,
         "color": "rgba(25,25,25,0.3)",
         "flatshading": true,
         "lighting": {
          "diffuse": 0.1,
          "roughness": 0.5,
          "specular": 2
         },
         "type": "mesh3d",
         "x": [
          6.5,
          6.5,
          7.5,
          7.5,
          6.5,
          6.5,
          7.5,
          7.5
         ],
         "y": [
          5.5,
          5.5,
          5.5,
          5.5,
          6.5,
          6.5,
          6.5,
          6.5
         ],
         "z": [
          1.5,
          2.5,
          1.5,
          2.5,
          1.5,
          2.5,
          1.5,
          2.5
         ]
        },
        {
         "alphahull": 1,
         "color": "rgba(25,25,25,0.3)",
         "flatshading": true,
         "lighting": {
          "diffuse": 0.1,
          "roughness": 0.5,
          "specular": 2
         },
         "type": "mesh3d",
         "x": [
          8.5,
          8.5,
          9.5,
          9.5,
          8.5,
          8.5,
          9.5,
          9.5
         ],
         "y": [
          2.5,
          2.5,
          2.5,
          2.5,
          3.5,
          3.5,
          3.5,
          3.5
         ],
         "z": [
          8.5,
          9.5,
          8.5,
          9.5,
          8.5,
          9.5,
          8.5,
          9.5
         ]
        },
        {
         "alphahull": 1,
         "color": "rgba(25,25,25,0.3)",
         "flatshading": true,
         "lighting": {
          "diffuse": 0.1,
          "roughness": 0.5,
          "specular": 2
         },
         "type": "mesh3d",
         "x": [
          9.5,
          9.5,
          10.5,
          10.5,
          9.5,
          9.5,
          10.5,
          10.5
         ],
         "y": [
          6.5,
          6.5,
          6.5,
          6.5,
          7.5,
          7.5,
          7.5,
          7.5
         ],
         "z": [
          8.5,
          9.5,
          8.5,
          9.5,
          8.5,
          9.5,
          8.5,
          9.5
         ]
        },
        {
         "alphahull": 1,
         "color": "rgba(25,25,25,0.3)",
         "flatshading": true,
         "lighting": {
          "diffuse": 0.1,
          "roughness": 0.5,
          "specular": 2
         },
         "type": "mesh3d",
         "x": [
          4.5,
          4.5,
          5.5,
          5.5,
          4.5,
          4.5,
          5.5,
          5.5
         ],
         "y": [
          6.5,
          6.5,
          6.5,
          6.5,
          7.5,
          7.5,
          7.5,
          7.5
         ],
         "z": [
          6.5,
          7.5,
          6.5,
          7.5,
          6.5,
          7.5,
          6.5,
          7.5
         ]
        },
        {
         "alphahull": 1,
         "color": "rgba(25,25,25,0.3)",
         "flatshading": true,
         "lighting": {
          "diffuse": 0.1,
          "roughness": 0.5,
          "specular": 2
         },
         "type": "mesh3d",
         "x": [
          6.5,
          6.5,
          7.5,
          7.5,
          6.5,
          6.5,
          7.5,
          7.5
         ],
         "y": [
          2.5,
          2.5,
          2.5,
          2.5,
          3.5,
          3.5,
          3.5,
          3.5
         ],
         "z": [
          8.5,
          9.5,
          8.5,
          9.5,
          8.5,
          9.5,
          8.5,
          9.5
         ]
        },
        {
         "alphahull": 1,
         "color": "rgba(25,25,25,0.3)",
         "flatshading": true,
         "lighting": {
          "diffuse": 0.1,
          "roughness": 0.5,
          "specular": 2
         },
         "type": "mesh3d",
         "x": [
          5.5,
          5.5,
          6.5,
          6.5,
          5.5,
          5.5,
          6.5,
          6.5
         ],
         "y": [
          2.5,
          2.5,
          2.5,
          2.5,
          3.5,
          3.5,
          3.5,
          3.5
         ],
         "z": [
          9.5,
          10.5,
          9.5,
          10.5,
          9.5,
          10.5,
          9.5,
          10.5
         ]
        },
        {
         "alphahull": 1,
         "color": "rgba(25,25,25,0.3)",
         "flatshading": true,
         "lighting": {
          "diffuse": 0.1,
          "roughness": 0.5,
          "specular": 2
         },
         "type": "mesh3d",
         "x": [
          3.5,
          3.5,
          4.5,
          4.5,
          3.5,
          3.5,
          4.5,
          4.5
         ],
         "y": [
          7.5,
          7.5,
          7.5,
          7.5,
          8.5,
          8.5,
          8.5,
          8.5
         ],
         "z": [
          7.5,
          8.5,
          7.5,
          8.5,
          7.5,
          8.5,
          7.5,
          8.5
         ]
        },
        {
         "marker": {
          "color": "rgba(89.0,100.0,240.0,1)"
         },
         "mode": "markers",
         "name": "Alice",
         "type": "scatter3d",
         "x": [
          9
         ],
         "y": [
          3
         ],
         "z": [
          2
         ]
        },
        {
         "line": {
          "color": "rgba(99.0,110.0,250.0,1)"
         },
         "mode": "lines",
         "showlegend": false,
         "type": "scatter3d",
         "x": [
          9,
          9,
          9,
          9,
          9,
          8,
          7,
          6,
          6,
          6,
          6
         ],
         "y": [
          3,
          3,
          3,
          3,
          2,
          2,
          2,
          2,
          1,
          1,
          1
         ],
         "z": [
          2,
          2,
          3,
          4,
          4,
          4,
          4,
          4,
          4,
          3,
          3
         ]
        },
        {
         "marker": {
          "color": "rgba(109.0,120.0,255,1)"
         },
         "mode": "markers",
         "showlegend": false,
         "type": "scatter3d",
         "x": [
          6
         ],
         "y": [
          1
         ],
         "z": [
          3
         ]
        },
        {
         "marker": {
          "color": "rgba(229.0,75.0,49.0,1)"
         },
         "mode": "markers",
         "name": "Bob",
         "type": "scatter3d",
         "x": [
          2
         ],
         "y": [
          6
         ],
         "z": [
          4
         ]
        },
        {
         "line": {
          "color": "rgba(239.0,85.0,59.0,1)"
         },
         "mode": "lines",
         "showlegend": false,
         "type": "scatter3d",
         "x": [
          2,
          2,
          2,
          2,
          2,
          3,
          4,
          4,
          4,
          4,
          4,
          4,
          4
         ],
         "y": [
          6,
          6,
          5,
          4,
          3,
          3,
          3,
          3,
          3,
          3,
          3,
          3,
          3
         ],
         "z": [
          4,
          4,
          4,
          4,
          4,
          4,
          4,
          5,
          6,
          7,
          8,
          9,
          9
         ]
        },
        {
         "marker": {
          "color": "rgba(249.0,95.0,69.0,1)"
         },
         "mode": "markers",
         "showlegend": false,
         "type": "scatter3d",
         "x": [
          4
         ],
         "y": [
          3
         ],
         "z": [
          9
         ]
        },
        {
         "marker": {
          "color": "rgba(0,194.0,140.0,1)"
         },
         "mode": "markers",
         "name": "Chad",
         "type": "scatter3d",
         "x": [
          1
         ],
         "y": [
          10
         ],
         "z": [
          3
         ]
        },
        {
         "line": {
          "color": "rgba(0.0,204.0,150.0,1)"
         },
         "mode": "lines",
         "showlegend": false,
         "type": "scatter3d",
         "x": [
          1,
          1,
          1,
          1,
          1,
          1,
          1,
          1,
          1,
          1,
          2,
          3,
          3,
          3,
          3,
          3
         ],
         "y": [
          10,
          10,
          9,
          8,
          7,
          6,
          5,
          4,
          3,
          2,
          2,
          2,
          1,
          1,
          1,
          1
         ],
         "z": [
          3,
          3,
          3,
          3,
          3,
          3,
          3,
          3,
          3,
          3,
          3,
          3,
          3,
          4,
          5,
          5
         ]
        },
        {
         "marker": {
          "color": "rgba(10.0,214.0,160.0,1)"
         },
         "mode": "markers",
         "showlegend": false,
         "type": "scatter3d",
         "x": [
          3
         ],
         "y": [
          1
         ],
         "z": [
          5
         ]
        },
        {
         "marker": {
          "color": "rgba(161.0,89.0,240.0,1)"
         },
         "mode": "markers",
         "name": "Dave",
         "type": "scatter3d",
         "x": [
          1
         ],
         "y": [
          4
         ],
         "z": [
          2
         ]
        },
        {
         "line": {
          "color": "rgba(171.0,99.0,250.0,1)"
         },
         "mode": "lines",
         "showlegend": false,
         "type": "scatter3d",
         "x": [
          1,
          1,
          2,
          3,
          4,
          5,
          6,
          6,
          6,
          6,
          6,
          6,
          6,
          6,
          6,
          6,
          6,
          6,
          6
         ],
         "y": [
          4,
          4,
          4,
          4,
          4,
          4,
          4,
          5,
          6,
          7,
          8,
          8,
          8,
          8,
          8,
          8,
          8,
          8,
          8
         ],
         "z": [
          2,
          2,
          2,
          2,
          2,
          2,
          2,
          2,
          2,
          2,
          2,
          3,
          4,
          5,
          6,
          7,
          8,
          9,
          9
         ]
        },
        {
         "marker": {
          "color": "rgba(181.0,109.0,255,1)"
         },
         "mode": "markers",
         "showlegend": false,
         "type": "scatter3d",
         "x": [
          6
         ],
         "y": [
          8
         ],
         "z": [
          9
         ]
        }
       ],
       "layout": {
        "template": {
         "data": {
          "bar": [
           {
            "error_x": {
             "color": "#2a3f5f"
            },
            "error_y": {
             "color": "#2a3f5f"
            },
            "marker": {
             "line": {
              "color": "#E5ECF6",
              "width": 0.5
             },
             "pattern": {
              "fillmode": "overlay",
              "size": 10,
              "solidity": 0.2
             }
            },
            "type": "bar"
           }
          ],
          "barpolar": [
           {
            "marker": {
             "line": {
              "color": "#E5ECF6",
              "width": 0.5
             },
             "pattern": {
              "fillmode": "overlay",
              "size": 10,
              "solidity": 0.2
             }
            },
            "type": "barpolar"
           }
          ],
          "carpet": [
           {
            "aaxis": {
             "endlinecolor": "#2a3f5f",
             "gridcolor": "white",
             "linecolor": "white",
             "minorgridcolor": "white",
             "startlinecolor": "#2a3f5f"
            },
            "baxis": {
             "endlinecolor": "#2a3f5f",
             "gridcolor": "white",
             "linecolor": "white",
             "minorgridcolor": "white",
             "startlinecolor": "#2a3f5f"
            },
            "type": "carpet"
           }
          ],
          "choropleth": [
           {
            "colorbar": {
             "outlinewidth": 0,
             "ticks": ""
            },
            "type": "choropleth"
           }
          ],
          "contour": [
           {
            "colorbar": {
             "outlinewidth": 0,
             "ticks": ""
            },
            "colorscale": [
             [
              0,
              "#0d0887"
             ],
             [
              0.1111111111111111,
              "#46039f"
             ],
             [
              0.2222222222222222,
              "#7201a8"
             ],
             [
              0.3333333333333333,
              "#9c179e"
             ],
             [
              0.4444444444444444,
              "#bd3786"
             ],
             [
              0.5555555555555556,
              "#d8576b"
             ],
             [
              0.6666666666666666,
              "#ed7953"
             ],
             [
              0.7777777777777778,
              "#fb9f3a"
             ],
             [
              0.8888888888888888,
              "#fdca26"
             ],
             [
              1,
              "#f0f921"
             ]
            ],
            "type": "contour"
           }
          ],
          "contourcarpet": [
           {
            "colorbar": {
             "outlinewidth": 0,
             "ticks": ""
            },
            "type": "contourcarpet"
           }
          ],
          "heatmap": [
           {
            "colorbar": {
             "outlinewidth": 0,
             "ticks": ""
            },
            "colorscale": [
             [
              0,
              "#0d0887"
             ],
             [
              0.1111111111111111,
              "#46039f"
             ],
             [
              0.2222222222222222,
              "#7201a8"
             ],
             [
              0.3333333333333333,
              "#9c179e"
             ],
             [
              0.4444444444444444,
              "#bd3786"
             ],
             [
              0.5555555555555556,
              "#d8576b"
             ],
             [
              0.6666666666666666,
              "#ed7953"
             ],
             [
              0.7777777777777778,
              "#fb9f3a"
             ],
             [
              0.8888888888888888,
              "#fdca26"
             ],
             [
              1,
              "#f0f921"
             ]
            ],
            "type": "heatmap"
           }
          ],
          "heatmapgl": [
           {
            "colorbar": {
             "outlinewidth": 0,
             "ticks": ""
            },
            "colorscale": [
             [
              0,
              "#0d0887"
             ],
             [
              0.1111111111111111,
              "#46039f"
             ],
             [
              0.2222222222222222,
              "#7201a8"
             ],
             [
              0.3333333333333333,
              "#9c179e"
             ],
             [
              0.4444444444444444,
              "#bd3786"
             ],
             [
              0.5555555555555556,
              "#d8576b"
             ],
             [
              0.6666666666666666,
              "#ed7953"
             ],
             [
              0.7777777777777778,
              "#fb9f3a"
             ],
             [
              0.8888888888888888,
              "#fdca26"
             ],
             [
              1,
              "#f0f921"
             ]
            ],
            "type": "heatmapgl"
           }
          ],
          "histogram": [
           {
            "marker": {
             "pattern": {
              "fillmode": "overlay",
              "size": 10,
              "solidity": 0.2
             }
            },
            "type": "histogram"
           }
          ],
          "histogram2d": [
           {
            "colorbar": {
             "outlinewidth": 0,
             "ticks": ""
            },
            "colorscale": [
             [
              0,
              "#0d0887"
             ],
             [
              0.1111111111111111,
              "#46039f"
             ],
             [
              0.2222222222222222,
              "#7201a8"
             ],
             [
              0.3333333333333333,
              "#9c179e"
             ],
             [
              0.4444444444444444,
              "#bd3786"
             ],
             [
              0.5555555555555556,
              "#d8576b"
             ],
             [
              0.6666666666666666,
              "#ed7953"
             ],
             [
              0.7777777777777778,
              "#fb9f3a"
             ],
             [
              0.8888888888888888,
              "#fdca26"
             ],
             [
              1,
              "#f0f921"
             ]
            ],
            "type": "histogram2d"
           }
          ],
          "histogram2dcontour": [
           {
            "colorbar": {
             "outlinewidth": 0,
             "ticks": ""
            },
            "colorscale": [
             [
              0,
              "#0d0887"
             ],
             [
              0.1111111111111111,
              "#46039f"
             ],
             [
              0.2222222222222222,
              "#7201a8"
             ],
             [
              0.3333333333333333,
              "#9c179e"
             ],
             [
              0.4444444444444444,
              "#bd3786"
             ],
             [
              0.5555555555555556,
              "#d8576b"
             ],
             [
              0.6666666666666666,
              "#ed7953"
             ],
             [
              0.7777777777777778,
              "#fb9f3a"
             ],
             [
              0.8888888888888888,
              "#fdca26"
             ],
             [
              1,
              "#f0f921"
             ]
            ],
            "type": "histogram2dcontour"
           }
          ],
          "mesh3d": [
           {
            "colorbar": {
             "outlinewidth": 0,
             "ticks": ""
            },
            "type": "mesh3d"
           }
          ],
          "parcoords": [
           {
            "line": {
             "colorbar": {
              "outlinewidth": 0,
              "ticks": ""
             }
            },
            "type": "parcoords"
           }
          ],
          "pie": [
           {
            "automargin": true,
            "type": "pie"
           }
          ],
          "scatter": [
           {
            "fillpattern": {
             "fillmode": "overlay",
             "size": 10,
             "solidity": 0.2
            },
            "type": "scatter"
           }
          ],
          "scatter3d": [
           {
            "line": {
             "colorbar": {
              "outlinewidth": 0,
              "ticks": ""
             }
            },
            "marker": {
             "colorbar": {
              "outlinewidth": 0,
              "ticks": ""
             }
            },
            "type": "scatter3d"
           }
          ],
          "scattercarpet": [
           {
            "marker": {
             "colorbar": {
              "outlinewidth": 0,
              "ticks": ""
             }
            },
            "type": "scattercarpet"
           }
          ],
          "scattergeo": [
           {
            "marker": {
             "colorbar": {
              "outlinewidth": 0,
              "ticks": ""
             }
            },
            "type": "scattergeo"
           }
          ],
          "scattergl": [
           {
            "marker": {
             "colorbar": {
              "outlinewidth": 0,
              "ticks": ""
             }
            },
            "type": "scattergl"
           }
          ],
          "scattermapbox": [
           {
            "marker": {
             "colorbar": {
              "outlinewidth": 0,
              "ticks": ""
             }
            },
            "type": "scattermapbox"
           }
          ],
          "scatterpolar": [
           {
            "marker": {
             "colorbar": {
              "outlinewidth": 0,
              "ticks": ""
             }
            },
            "type": "scatterpolar"
           }
          ],
          "scatterpolargl": [
           {
            "marker": {
             "colorbar": {
              "outlinewidth": 0,
              "ticks": ""
             }
            },
            "type": "scatterpolargl"
           }
          ],
          "scatterternary": [
           {
            "marker": {
             "colorbar": {
              "outlinewidth": 0,
              "ticks": ""
             }
            },
            "type": "scatterternary"
           }
          ],
          "surface": [
           {
            "colorbar": {
             "outlinewidth": 0,
             "ticks": ""
            },
            "colorscale": [
             [
              0,
              "#0d0887"
             ],
             [
              0.1111111111111111,
              "#46039f"
             ],
             [
              0.2222222222222222,
              "#7201a8"
             ],
             [
              0.3333333333333333,
              "#9c179e"
             ],
             [
              0.4444444444444444,
              "#bd3786"
             ],
             [
              0.5555555555555556,
              "#d8576b"
             ],
             [
              0.6666666666666666,
              "#ed7953"
             ],
             [
              0.7777777777777778,
              "#fb9f3a"
             ],
             [
              0.8888888888888888,
              "#fdca26"
             ],
             [
              1,
              "#f0f921"
             ]
            ],
            "type": "surface"
           }
          ],
          "table": [
           {
            "cells": {
             "fill": {
              "color": "#EBF0F8"
             },
             "line": {
              "color": "white"
             }
            },
            "header": {
             "fill": {
              "color": "#C8D4E3"
             },
             "line": {
              "color": "white"
             }
            },
            "type": "table"
           }
          ]
         },
         "layout": {
          "annotationdefaults": {
           "arrowcolor": "#2a3f5f",
           "arrowhead": 0,
           "arrowwidth": 1
          },
          "autotypenumbers": "strict",
          "coloraxis": {
           "colorbar": {
            "outlinewidth": 0,
            "ticks": ""
           }
          },
          "colorscale": {
           "diverging": [
            [
             0,
             "#8e0152"
            ],
            [
             0.1,
             "#c51b7d"
            ],
            [
             0.2,
             "#de77ae"
            ],
            [
             0.3,
             "#f1b6da"
            ],
            [
             0.4,
             "#fde0ef"
            ],
            [
             0.5,
             "#f7f7f7"
            ],
            [
             0.6,
             "#e6f5d0"
            ],
            [
             0.7,
             "#b8e186"
            ],
            [
             0.8,
             "#7fbc41"
            ],
            [
             0.9,
             "#4d9221"
            ],
            [
             1,
             "#276419"
            ]
           ],
           "sequential": [
            [
             0,
             "#0d0887"
            ],
            [
             0.1111111111111111,
             "#46039f"
            ],
            [
             0.2222222222222222,
             "#7201a8"
            ],
            [
             0.3333333333333333,
             "#9c179e"
            ],
            [
             0.4444444444444444,
             "#bd3786"
            ],
            [
             0.5555555555555556,
             "#d8576b"
            ],
            [
             0.6666666666666666,
             "#ed7953"
            ],
            [
             0.7777777777777778,
             "#fb9f3a"
            ],
            [
             0.8888888888888888,
             "#fdca26"
            ],
            [
             1,
             "#f0f921"
            ]
           ],
           "sequentialminus": [
            [
             0,
             "#0d0887"
            ],
            [
             0.1111111111111111,
             "#46039f"
            ],
            [
             0.2222222222222222,
             "#7201a8"
            ],
            [
             0.3333333333333333,
             "#9c179e"
            ],
            [
             0.4444444444444444,
             "#bd3786"
            ],
            [
             0.5555555555555556,
             "#d8576b"
            ],
            [
             0.6666666666666666,
             "#ed7953"
            ],
            [
             0.7777777777777778,
             "#fb9f3a"
            ],
            [
             0.8888888888888888,
             "#fdca26"
            ],
            [
             1,
             "#f0f921"
            ]
           ]
          },
          "colorway": [
           "#636efa",
           "#EF553B",
           "#00cc96",
           "#ab63fa",
           "#FFA15A",
           "#19d3f3",
           "#FF6692",
           "#B6E880",
           "#FF97FF",
           "#FECB52"
          ],
          "font": {
           "color": "#2a3f5f"
          },
          "geo": {
           "bgcolor": "white",
           "lakecolor": "white",
           "landcolor": "#E5ECF6",
           "showlakes": true,
           "showland": true,
           "subunitcolor": "white"
          },
          "hoverlabel": {
           "align": "left"
          },
          "hovermode": "closest",
          "mapbox": {
           "style": "light"
          },
          "paper_bgcolor": "white",
          "plot_bgcolor": "#E5ECF6",
          "polar": {
           "angularaxis": {
            "gridcolor": "white",
            "linecolor": "white",
            "ticks": ""
           },
           "bgcolor": "#E5ECF6",
           "radialaxis": {
            "gridcolor": "white",
            "linecolor": "white",
            "ticks": ""
           }
          },
          "scene": {
           "xaxis": {
            "backgroundcolor": "#E5ECF6",
            "gridcolor": "white",
            "gridwidth": 2,
            "linecolor": "white",
            "showbackground": true,
            "ticks": "",
            "zerolinecolor": "white"
           },
           "yaxis": {
            "backgroundcolor": "#E5ECF6",
            "gridcolor": "white",
            "gridwidth": 2,
            "linecolor": "white",
            "showbackground": true,
            "ticks": "",
            "zerolinecolor": "white"
           },
           "zaxis": {
            "backgroundcolor": "#E5ECF6",
            "gridcolor": "white",
            "gridwidth": 2,
            "linecolor": "white",
            "showbackground": true,
            "ticks": "",
            "zerolinecolor": "white"
           }
          },
          "shapedefaults": {
           "line": {
            "color": "#2a3f5f"
           }
          },
          "ternary": {
           "aaxis": {
            "gridcolor": "white",
            "linecolor": "white",
            "ticks": ""
           },
           "baxis": {
            "gridcolor": "white",
            "linecolor": "white",
            "ticks": ""
           },
           "bgcolor": "#E5ECF6",
           "caxis": {
            "gridcolor": "white",
            "linecolor": "white",
            "ticks": ""
           }
          },
          "title": {
           "x": 0.05
          },
          "xaxis": {
           "automargin": true,
           "gridcolor": "white",
           "linecolor": "white",
           "ticks": "",
           "title": {
            "standoff": 15
           },
           "zerolinecolor": "white",
           "zerolinewidth": 2
          },
          "yaxis": {
           "automargin": true,
           "gridcolor": "white",
           "linecolor": "white",
           "ticks": "",
           "title": {
            "standoff": 15
           },
           "zerolinecolor": "white",
           "zerolinewidth": 2
          }
         }
        }
       }
      }
     },
     "metadata": {},
     "output_type": "display_data"
    }
   ],
   "source": [
    "vis_plan = {'Alice': [(9, 3, 2), (9, 3, 3), (9, 3, 4), (9, 2, 4), (8, 2, 4), (7, 2, 4), (6, 2, 4), (6, 1, 4), (6, 1, 3)], 'Bob': [(2, 6, 4), (2, 5, 4), (2, 4, 4), (2, 3, 4), (3, 3, 4), (4, 3, 4), (4, 3, 5), (4, 3, 6), (4, 3, 7), (4, 3, 8), (4, 3, 9)], 'Chad': [(1, 10, 3), (1, 9, 3), (1, 8, 3), (1, 7, 3), (1, 6, 3), (1, 5, 3), (1, 4, 3), (1, 3, 3), (1, 2, 3), (2, 2, 3), (3, 2, 3), (3, 1, 3), (3, 1, 4), (3, 1, 5)], 'Dave': [(1, 4, 2), (2, 4, 2), (3, 4, 2), (4, 4, 2), (5, 4, 2), (6, 4, 2), (6, 5, 2), (6, 6, 2), (6, 7, 2), (6, 8, 2), (6, 8, 3), (6, 8, 4), (6, 8, 5), (6, 8, 6), (6, 8, 7), (6, 8, 8), (6, 8, 9)]}\n",
    "envs[0].visualize(agent_plan=vis_plan)"
   ]
  },
  {
   "cell_type": "code",
   "execution_count": 124,
   "metadata": {},
   "outputs": [
    {
     "data": {
      "text/plain": [
       "[{'name': 'AgentsInterface',\n",
       "  'args': {'Alice': [{'x': 9, 'y': 3, 'z': 2},\n",
       "    {'x': 8, 'y': 3, 'z': 2},\n",
       "    {'x': 7, 'y': 3, 'z': 2},\n",
       "    {'x': 6, 'y': 3, 'z': 2},\n",
       "    {'x': 6, 'y': 2, 'z': 2},\n",
       "    {'x': 6, 'y': 1, 'z': 2},\n",
       "    {'x': 6, 'y': 1, 'z': 3}]},\n",
       "  'id': 'call_apc0UD3Aq43XAcL3xOfn3VwO',\n",
       "  'type': 'tool_call'},\n",
       " {'name': 'AgentsInterface',\n",
       "  'args': {'Bob': [{'x': 2, 'y': 6, 'z': 4},\n",
       "    {'x': 3, 'y': 6, 'z': 4},\n",
       "    {'x': 4, 'y': 6, 'z': 4},\n",
       "    {'x': 4, 'y': 5, 'z': 4},\n",
       "    {'x': 4, 'y': 4, 'z': 4},\n",
       "    {'x': 4, 'y': 3, 'z': 4},\n",
       "    {'x': 4, 'y': 3, 'z': 5},\n",
       "    {'x': 4, 'y': 3, 'z': 6},\n",
       "    {'x': 4, 'y': 3, 'z': 7},\n",
       "    {'x': 4, 'y': 3, 'z': 8},\n",
       "    {'x': 4, 'y': 3, 'z': 9}]},\n",
       "  'id': 'call_L0z4BsvcfRxdm50Ia4N2f7eW',\n",
       "  'type': 'tool_call'},\n",
       " {'name': 'AgentsInterface',\n",
       "  'args': {'Chad': [{'x': 1, 'y': 10, 'z': 3},\n",
       "    {'x': 1, 'y': 9, 'z': 3},\n",
       "    {'x': 1, 'y': 8, 'z': 3},\n",
       "    {'x': 1, 'y': 7, 'z': 3},\n",
       "    {'x': 1, 'y': 6, 'z': 3},\n",
       "    {'x': 1, 'y': 5, 'z': 3},\n",
       "    {'x': 1, 'y': 4, 'z': 3},\n",
       "    {'x': 1, 'y': 3, 'z': 3},\n",
       "    {'x': 1, 'y': 2, 'z': 3},\n",
       "    {'x': 1, 'y': 1, 'z': 3},\n",
       "    {'x': 2, 'y': 1, 'z': 3},\n",
       "    {'x': 3, 'y': 1, 'z': 3},\n",
       "    {'x': 3, 'y': 1, 'z': 4},\n",
       "    {'x': 3, 'y': 1, 'z': 5}]},\n",
       "  'id': 'call_U6G5jcEDqHhoS7N0hDmDazMh',\n",
       "  'type': 'tool_call'},\n",
       " {'name': 'AgentsInterface',\n",
       "  'args': {'Dave': [{'x': 1, 'y': 4, 'z': 2},\n",
       "    {'x': 2, 'y': 4, 'z': 2},\n",
       "    {'x': 3, 'y': 4, 'z': 2},\n",
       "    {'x': 4, 'y': 4, 'z': 2},\n",
       "    {'x': 5, 'y': 4, 'z': 2},\n",
       "    {'x': 6, 'y': 4, 'z': 2},\n",
       "    {'x': 6, 'y': 5, 'z': 2},\n",
       "    {'x': 6, 'y': 6, 'z': 2},\n",
       "    {'x': 6, 'y': 7, 'z': 2},\n",
       "    {'x': 6, 'y': 8, 'z': 2},\n",
       "    {'x': 6, 'y': 8, 'z': 3},\n",
       "    {'x': 6, 'y': 8, 'z': 4},\n",
       "    {'x': 6, 'y': 8, 'z': 5},\n",
       "    {'x': 6, 'y': 8, 'z': 6},\n",
       "    {'x': 6, 'y': 8, 'z': 7},\n",
       "    {'x': 6, 'y': 8, 'z': 8},\n",
       "    {'x': 6, 'y': 8, 'z': 9}]},\n",
       "  'id': 'call_SPKK9K1sK5eY3fTCrof47Qs4',\n",
       "  'type': 'tool_call'}]"
      ]
     },
     "execution_count": 124,
     "metadata": {},
     "output_type": "execute_result"
    }
   ],
   "source": [
    "evs[0]['agent1']['messages'][0].tool_calls"
   ]
  }
 ],
 "metadata": {
  "kernelspec": {
   "display_name": "agents_v_test",
   "language": "python",
   "name": "python3"
  },
  "language_info": {
   "codemirror_mode": {
    "name": "ipython",
    "version": 3
   },
   "file_extension": ".py",
   "mimetype": "text/x-python",
   "name": "python",
   "nbconvert_exporter": "python",
   "pygments_lexer": "ipython3",
   "version": "3.9.20"
  }
 },
 "nbformat": 4,
 "nbformat_minor": 2
}
